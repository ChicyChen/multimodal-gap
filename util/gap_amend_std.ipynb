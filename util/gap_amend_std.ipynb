{
 "cells": [
  {
   "cell_type": "code",
   "execution_count": 1,
   "metadata": {},
   "outputs": [],
   "source": [
    "import numpy as np"
   ]
  },
  {
   "cell_type": "code",
   "execution_count": 3,
   "metadata": {},
   "outputs": [],
   "source": [
    "# % Original model (three seeds): 1.1898 1.1884 1.1892 -> 1.3149 1.2988 1.2836\n",
    "# % Amended model (three seeds): 0.0314 0.0551 0.0299 -> 0.7472 0.7195 0.7704\n",
    "\n",
    "original_init       = [1.1898, 1.1884, 1.1892]\n",
    "original_trained    = [1.3149, 1.2988, 1.2836]\n",
    "\n",
    "amended_init        = [0.0314, 0.0551, 0.0299]\n",
    "amended_trained     = [0.7472, 0.7195, 0.7704]\n"
   ]
  },
  {
   "cell_type": "code",
   "execution_count": 4,
   "metadata": {},
   "outputs": [
    {
     "name": "stdout",
     "output_type": "stream",
     "text": [
      "1.1891 0.0006\n",
      "1.2991 0.0128\n",
      "0.0388 0.0115\n",
      "0.7457 0.0208\n"
     ]
    }
   ],
   "source": [
    "for var_name in ['original_init', 'original_trained', 'amended_init', 'amended_trained']:\n",
    "    array = eval(var_name)\n",
    "    print('{:.4f} {:.4f}'.format(np.mean(array), np.std(array)))\n",
    "    "
   ]
  },
  {
   "cell_type": "code",
   "execution_count": null,
   "metadata": {},
   "outputs": [],
   "source": []
  }
 ],
 "metadata": {
  "interpreter": {
   "hash": "09c077faaa20da841f22e0f4d12b4addb73e00d9291bc78d00732f9f39794f23"
  },
  "kernelspec": {
   "display_name": "Python 3.9.7 ('clip')",
   "language": "python",
   "name": "python3"
  },
  "language_info": {
   "codemirror_mode": {
    "name": "ipython",
    "version": 3
   },
   "file_extension": ".py",
   "mimetype": "text/x-python",
   "name": "python",
   "nbconvert_exporter": "python",
   "pygments_lexer": "ipython3",
   "version": "3.9.7"
  },
  "orig_nbformat": 4
 },
 "nbformat": 4,
 "nbformat_minor": 2
}
