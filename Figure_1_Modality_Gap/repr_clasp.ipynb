{
 "cells": [
  {
   "cell_type": "markdown",
   "id": "rural-victoria",
   "metadata": {},
   "source": [
    "# Imports"
   ]
  },
  {
   "cell_type": "code",
   "execution_count": 1,
   "id": "adopted-annex",
   "metadata": {
    "ExecuteTime": {
     "end_time": "2021-06-13T13:32:43.664256Z",
     "start_time": "2021-06-13T13:32:43.333170Z"
    }
   },
   "outputs": [],
   "source": [
    "import sys\n",
    "# sys.path.append('ANONYMOUS_ROOTDIR/develop/open-world/clasp')\n",
    "sys.path.append('ANONYMOUS_ROOTDIR/develop/open-world/clasp/clasp')\n",
    "import torch\n",
    "from torch.utils.data import Dataset, DataLoader\n",
    "import random\n",
    "import time\n",
    "from datetime import datetime\n",
    "from functools import partial\n",
    "import json\n",
    "from tqdm import tqdm\n",
    "import numpy as np"
   ]
  },
  {
   "cell_type": "markdown",
   "id": "modular-diversity",
   "metadata": {},
   "source": [
    "# Sampler"
   ]
  },
  {
   "cell_type": "markdown",
   "id": "43d72ed2",
   "metadata": {},
   "source": [
    "## Basic sampler"
   ]
  },
  {
   "cell_type": "code",
   "execution_count": 2,
   "id": "89a47bb2",
   "metadata": {
    "ExecuteTime": {
     "end_time": "2021-06-13T13:32:49.513028Z",
     "start_time": "2021-06-13T13:32:49.507447Z"
    }
   },
   "outputs": [],
   "source": [
    "def basic_sampler(seq, sample_len):\n",
    "    \"\"\"\n",
    "    Basic text sampler.\n",
    "    Returns the first sample_len items.\n",
    "    If sample_len is greater than the length of the seq, the seq is returned.\n",
    "    \"\"\"\n",
    "    seq_len = len(seq)\n",
    "    if seq_len > sample_len:\n",
    "        return seq[:sample_len]\n",
    "    else:\n",
    "        return seq"
   ]
  },
  {
   "cell_type": "markdown",
   "id": "necessary-alert",
   "metadata": {},
   "source": [
    "## Basic random sampler"
   ]
  },
  {
   "cell_type": "code",
   "execution_count": 3,
   "id": "quarterly-parker",
   "metadata": {
    "ExecuteTime": {
     "end_time": "2021-06-13T13:32:59.954476Z",
     "start_time": "2021-06-13T13:32:59.949028Z"
    }
   },
   "outputs": [],
   "source": [
    "def basic_rand_sampler(seq, sample_len):\n",
    "    \"\"\"\n",
    "    Basic random text sampler.\n",
    "    If sample_len is greater than the length of the seq, the seq is returned.\n",
    "    \"\"\"\n",
    "    seq_len   = len(seq)\n",
    "    if seq_len > sample_len:\n",
    "        start_idx = random.randint(0, min(seq_len,seq_len - sample_len))\n",
    "        end_idx   = start_idx+sample_len\n",
    "        return seq[start_idx:end_idx]\n",
    "    else:\n",
    "        return seq"
   ]
  },
  {
   "cell_type": "markdown",
   "id": "tutorial-match",
   "metadata": {},
   "source": [
    "# Tokenizer"
   ]
  },
  {
   "cell_type": "markdown",
   "id": "cognitive-toolbox",
   "metadata": {},
   "source": [
    "## Basic aminoacid tokenizer"
   ]
  },
  {
   "cell_type": "code",
   "execution_count": 4,
   "id": "a5d6a0f2",
   "metadata": {
    "ExecuteTime": {
     "end_time": "2021-06-13T13:33:14.539591Z",
     "start_time": "2021-06-13T13:33:14.534965Z"
    }
   },
   "outputs": [],
   "source": [
    "AA_VOCAB = \"ACDEFGHIKLMNOPQRSTUVWY\"\n",
    "AA_DICT = {a: i for i, a in enumerate(AA_VOCAB)}"
   ]
  },
  {
   "cell_type": "code",
   "execution_count": 5,
   "id": "broad-nomination",
   "metadata": {
    "ExecuteTime": {
     "end_time": "2021-06-13T13:33:19.175862Z",
     "start_time": "2021-06-13T13:33:19.172656Z"
    }
   },
   "outputs": [],
   "source": [
    "def basic_aa_tokenizer(seq, context_length, return_mask=True):\n",
    "    \"\"\"\n",
    "    Maps a number between 0 and 21 to each 21 proteogenic aminoacids.\n",
    "    Unknown char input gets mapped to 22.\n",
    "    \"\"\"\n",
    "    seq_len = len(seq)\n",
    "    seq_wrap = torch.zeros(context_length, dtype=torch.long) \n",
    "    seq_wrap[:seq_len] = torch.tensor([AA_DICT[a] if a in AA_VOCAB else 22 for a in seq], dtype=torch.long)\n",
    "    if return_mask:\n",
    "        mask = torch.zeros_like(seq_wrap, dtype=torch.bool)\n",
    "        mask[0:seq_len] = True\n",
    "        return seq_wrap, mask\n",
    "    else:\n",
    "        return seq_wrap"
   ]
  },
  {
   "cell_type": "markdown",
   "id": "systematic-attachment",
   "metadata": {},
   "source": [
    "## Text tokenizer"
   ]
  },
  {
   "cell_type": "code",
   "execution_count": 6,
   "id": "obvious-honolulu",
   "metadata": {
    "ExecuteTime": {
     "end_time": "2021-04-18T15:46:51.058297Z",
     "start_time": "2021-04-18T15:46:50.939758Z"
    }
   },
   "outputs": [],
   "source": [
    "from simple_tokenizer import tokenize"
   ]
  },
  {
   "cell_type": "markdown",
   "id": "capable-chicago",
   "metadata": {},
   "source": [
    "# Dataset"
   ]
  },
  {
   "cell_type": "code",
   "execution_count": 7,
   "id": "separate-climb",
   "metadata": {
    "ExecuteTime": {
     "end_time": "2021-04-18T15:46:52.443862Z",
     "start_time": "2021-04-18T15:46:52.436330Z"
    }
   },
   "outputs": [],
   "source": [
    "class CLASPDataset(Dataset):\n",
    "    \"\"\"\n",
    "    Basic CLASP dataset that loads the preprocessed csv file into RAM.\n",
    "        path: path to the csv file\n",
    "    \"\"\"\n",
    "    def __init__(self, path, text_sampler, bioseq_sampler, text_tok, bioseq_tok):\n",
    "        super().__init__()\n",
    "        self.path = path\n",
    "\n",
    "        tp = time.time()\n",
    "        with open(path, \"r\") as reader:\n",
    "            self.data = reader.readlines()\n",
    "        print(f\"Load data time: {time.time() - tp:.3f} s\")\n",
    "\n",
    "        self.cols = self.data.pop(0).split(\",\")\n",
    "        self.len  = len(self.data)\n",
    "\n",
    "        self.text_sampler   = text_sampler\n",
    "        self.bioseq_sampler = bioseq_sampler\n",
    "\n",
    "        self.text_tok   = text_tok\n",
    "        self.bioseq_tok = bioseq_tok\n",
    "\n",
    "    def __len__(self):\n",
    "        return self.len\n",
    "\n",
    "    def __getitem__(self, idx):\n",
    "        sample = self.data[idx][:-2] # without \"\\n\"\n",
    "        sample = sample.split(\",\")\n",
    "        sample = [x for x in sample if len(x) > 0]\n",
    "\n",
    "        text   = \" \".join(sample[:-2])\n",
    "        bioseq = sample[-1]\n",
    "\n",
    "        text   = self.text_sampler(text)\n",
    "        bioseq = self.bioseq_sampler(bioseq)\n",
    "        \n",
    "        print(text, len(text))\n",
    "        print(bioseq, len(bioseq))\n",
    "\n",
    "        text, text_mask = self.text_tok(text)\n",
    "        bioseq, bioseq_mask = self.bioseq_tok(bioseq)\n",
    "\n",
    "        return text, text_mask, bioseq, bioseq_mask"
   ]
  },
  {
   "cell_type": "code",
   "execution_count": 8,
   "id": "frozen-lebanon",
   "metadata": {
    "ExecuteTime": {
     "end_time": "2021-04-18T15:46:52.707568Z",
     "start_time": "2021-04-18T15:46:52.700924Z"
    }
   },
   "outputs": [],
   "source": [
    "str_sampler = partial(basic_rand_sampler, sample_len=100)\n",
    "text_tok    = partial(tokenize, context_length=120, return_mask=True)\n",
    "bioseq_tok  = partial(basic_aa_tokenizer, context_length=120, return_mask=True)"
   ]
  },
  {
   "cell_type": "code",
   "execution_count": 9,
   "id": "indoor-prescription",
   "metadata": {
    "ExecuteTime": {
     "end_time": "2021-04-18T15:46:53.046581Z",
     "start_time": "2021-04-18T15:46:53.038419Z"
    }
   },
   "outputs": [
    {
     "name": "stdout",
     "output_type": "stream",
     "text": [
      "Load data time: 0.001 s\n"
     ]
    }
   ],
   "source": [
    "ds = CLASPDataset(path=\"ANONYMOUS_ROOTDIR/develop/open-world/clasp/data/uniprot_100_reduced.csv\",\n",
    "                  text_sampler=str_sampler,\n",
    "                  bioseq_sampler=str_sampler,\n",
    "                  text_tok=text_tok,\n",
    "                  bioseq_tok=bioseq_tok)"
   ]
  },
  {
   "cell_type": "code",
   "execution_count": 10,
   "id": "b5a0b743",
   "metadata": {},
   "outputs": [
    {
     "data": {
      "text/plain": [
       "CLASP(\n",
       "  (text_encoder): Transformer(\n",
       "    (token_emb): Embedding(49408, 768)\n",
       "    (pos_emb): SinuEmb()\n",
       "    (rel_pos_emb): SinuEmb()\n",
       "    (net): ReversibleSequence(\n",
       "      (blocks): ModuleList(\n",
       "        (0): ReversibleBlock(\n",
       "          (f): Deterministic(\n",
       "            (net): LayerScale(\n",
       "              (fn): PreNorm(\n",
       "                (norm): LayerNorm((768,), eps=1e-05, elementwise_affine=True)\n",
       "                (fn): Attention(\n",
       "                  (to_qkv): Linear(in_features=768, out_features=1536, bias=False)\n",
       "                  (to_out): Sequential(\n",
       "                    (0): Linear(in_features=512, out_features=768, bias=True)\n",
       "                    (1): Dropout(p=0.0, inplace=False)\n",
       "                  )\n",
       "                )\n",
       "              )\n",
       "            )\n",
       "          )\n",
       "          (g): Deterministic(\n",
       "            (net): LayerScale(\n",
       "              (fn): PreNorm(\n",
       "                (norm): LayerNorm((768,), eps=1e-05, elementwise_affine=True)\n",
       "                (fn): FeedForward(\n",
       "                  (net): Sequential(\n",
       "                    (0): Linear(in_features=768, out_features=6144, bias=True)\n",
       "                    (1): GEGLU()\n",
       "                    (2): Dropout(p=0.0, inplace=False)\n",
       "                    (3): Linear(in_features=3072, out_features=768, bias=True)\n",
       "                  )\n",
       "                )\n",
       "              )\n",
       "            )\n",
       "          )\n",
       "        )\n",
       "        (1): ReversibleBlock(\n",
       "          (f): Deterministic(\n",
       "            (net): LayerScale(\n",
       "              (fn): PreNorm(\n",
       "                (norm): LayerNorm((768,), eps=1e-05, elementwise_affine=True)\n",
       "                (fn): Attention(\n",
       "                  (to_qkv): Linear(in_features=768, out_features=1536, bias=False)\n",
       "                  (to_out): Sequential(\n",
       "                    (0): Linear(in_features=512, out_features=768, bias=True)\n",
       "                    (1): Dropout(p=0.0, inplace=False)\n",
       "                  )\n",
       "                )\n",
       "              )\n",
       "            )\n",
       "          )\n",
       "          (g): Deterministic(\n",
       "            (net): LayerScale(\n",
       "              (fn): PreNorm(\n",
       "                (norm): LayerNorm((768,), eps=1e-05, elementwise_affine=True)\n",
       "                (fn): FeedForward(\n",
       "                  (net): Sequential(\n",
       "                    (0): Linear(in_features=768, out_features=6144, bias=True)\n",
       "                    (1): GEGLU()\n",
       "                    (2): Dropout(p=0.0, inplace=False)\n",
       "                    (3): Linear(in_features=3072, out_features=768, bias=True)\n",
       "                  )\n",
       "                )\n",
       "              )\n",
       "            )\n",
       "          )\n",
       "        )\n",
       "        (2): ReversibleBlock(\n",
       "          (f): Deterministic(\n",
       "            (net): LayerScale(\n",
       "              (fn): PreNorm(\n",
       "                (norm): LayerNorm((768,), eps=1e-05, elementwise_affine=True)\n",
       "                (fn): Attention(\n",
       "                  (to_qkv): Linear(in_features=768, out_features=1536, bias=False)\n",
       "                  (to_out): Sequential(\n",
       "                    (0): Linear(in_features=512, out_features=768, bias=True)\n",
       "                    (1): Dropout(p=0.0, inplace=False)\n",
       "                  )\n",
       "                )\n",
       "              )\n",
       "            )\n",
       "          )\n",
       "          (g): Deterministic(\n",
       "            (net): LayerScale(\n",
       "              (fn): PreNorm(\n",
       "                (norm): LayerNorm((768,), eps=1e-05, elementwise_affine=True)\n",
       "                (fn): FeedForward(\n",
       "                  (net): Sequential(\n",
       "                    (0): Linear(in_features=768, out_features=6144, bias=True)\n",
       "                    (1): GEGLU()\n",
       "                    (2): Dropout(p=0.0, inplace=False)\n",
       "                    (3): Linear(in_features=3072, out_features=768, bias=True)\n",
       "                  )\n",
       "                )\n",
       "              )\n",
       "            )\n",
       "          )\n",
       "        )\n",
       "        (3): ReversibleBlock(\n",
       "          (f): Deterministic(\n",
       "            (net): LayerScale(\n",
       "              (fn): PreNorm(\n",
       "                (norm): LayerNorm((768,), eps=1e-05, elementwise_affine=True)\n",
       "                (fn): Attention(\n",
       "                  (to_qkv): Linear(in_features=768, out_features=1536, bias=False)\n",
       "                  (to_out): Sequential(\n",
       "                    (0): Linear(in_features=512, out_features=768, bias=True)\n",
       "                    (1): Dropout(p=0.0, inplace=False)\n",
       "                  )\n",
       "                )\n",
       "              )\n",
       "            )\n",
       "          )\n",
       "          (g): Deterministic(\n",
       "            (net): LayerScale(\n",
       "              (fn): PreNorm(\n",
       "                (norm): LayerNorm((768,), eps=1e-05, elementwise_affine=True)\n",
       "                (fn): FeedForward(\n",
       "                  (net): Sequential(\n",
       "                    (0): Linear(in_features=768, out_features=6144, bias=True)\n",
       "                    (1): GEGLU()\n",
       "                    (2): Dropout(p=0.0, inplace=False)\n",
       "                    (3): Linear(in_features=3072, out_features=768, bias=True)\n",
       "                  )\n",
       "                )\n",
       "              )\n",
       "            )\n",
       "          )\n",
       "        )\n",
       "        (4): ReversibleBlock(\n",
       "          (f): Deterministic(\n",
       "            (net): LayerScale(\n",
       "              (fn): PreNorm(\n",
       "                (norm): LayerNorm((768,), eps=1e-05, elementwise_affine=True)\n",
       "                (fn): Attention(\n",
       "                  (to_qkv): Linear(in_features=768, out_features=1536, bias=False)\n",
       "                  (to_out): Sequential(\n",
       "                    (0): Linear(in_features=512, out_features=768, bias=True)\n",
       "                    (1): Dropout(p=0.0, inplace=False)\n",
       "                  )\n",
       "                )\n",
       "              )\n",
       "            )\n",
       "          )\n",
       "          (g): Deterministic(\n",
       "            (net): LayerScale(\n",
       "              (fn): PreNorm(\n",
       "                (norm): LayerNorm((768,), eps=1e-05, elementwise_affine=True)\n",
       "                (fn): FeedForward(\n",
       "                  (net): Sequential(\n",
       "                    (0): Linear(in_features=768, out_features=6144, bias=True)\n",
       "                    (1): GEGLU()\n",
       "                    (2): Dropout(p=0.0, inplace=False)\n",
       "                    (3): Linear(in_features=3072, out_features=768, bias=True)\n",
       "                  )\n",
       "                )\n",
       "              )\n",
       "            )\n",
       "          )\n",
       "        )\n",
       "        (5): ReversibleBlock(\n",
       "          (f): Deterministic(\n",
       "            (net): LayerScale(\n",
       "              (fn): PreNorm(\n",
       "                (norm): LayerNorm((768,), eps=1e-05, elementwise_affine=True)\n",
       "                (fn): Attention(\n",
       "                  (to_qkv): Linear(in_features=768, out_features=1536, bias=False)\n",
       "                  (to_out): Sequential(\n",
       "                    (0): Linear(in_features=512, out_features=768, bias=True)\n",
       "                    (1): Dropout(p=0.0, inplace=False)\n",
       "                  )\n",
       "                )\n",
       "              )\n",
       "            )\n",
       "          )\n",
       "          (g): Deterministic(\n",
       "            (net): LayerScale(\n",
       "              (fn): PreNorm(\n",
       "                (norm): LayerNorm((768,), eps=1e-05, elementwise_affine=True)\n",
       "                (fn): FeedForward(\n",
       "                  (net): Sequential(\n",
       "                    (0): Linear(in_features=768, out_features=6144, bias=True)\n",
       "                    (1): GEGLU()\n",
       "                    (2): Dropout(p=0.0, inplace=False)\n",
       "                    (3): Linear(in_features=3072, out_features=768, bias=True)\n",
       "                  )\n",
       "                )\n",
       "              )\n",
       "            )\n",
       "          )\n",
       "        )\n",
       "        (6): ReversibleBlock(\n",
       "          (f): Deterministic(\n",
       "            (net): LayerScale(\n",
       "              (fn): PreNorm(\n",
       "                (norm): LayerNorm((768,), eps=1e-05, elementwise_affine=True)\n",
       "                (fn): Attention(\n",
       "                  (to_qkv): Linear(in_features=768, out_features=1536, bias=False)\n",
       "                  (to_out): Sequential(\n",
       "                    (0): Linear(in_features=512, out_features=768, bias=True)\n",
       "                    (1): Dropout(p=0.0, inplace=False)\n",
       "                  )\n",
       "                )\n",
       "              )\n",
       "            )\n",
       "          )\n",
       "          (g): Deterministic(\n",
       "            (net): LayerScale(\n",
       "              (fn): PreNorm(\n",
       "                (norm): LayerNorm((768,), eps=1e-05, elementwise_affine=True)\n",
       "                (fn): FeedForward(\n",
       "                  (net): Sequential(\n",
       "                    (0): Linear(in_features=768, out_features=6144, bias=True)\n",
       "                    (1): GEGLU()\n",
       "                    (2): Dropout(p=0.0, inplace=False)\n",
       "                    (3): Linear(in_features=3072, out_features=768, bias=True)\n",
       "                  )\n",
       "                )\n",
       "              )\n",
       "            )\n",
       "          )\n",
       "        )\n",
       "        (7): ReversibleBlock(\n",
       "          (f): Deterministic(\n",
       "            (net): LayerScale(\n",
       "              (fn): PreNorm(\n",
       "                (norm): LayerNorm((768,), eps=1e-05, elementwise_affine=True)\n",
       "                (fn): Attention(\n",
       "                  (to_qkv): Linear(in_features=768, out_features=1536, bias=False)\n",
       "                  (to_out): Sequential(\n",
       "                    (0): Linear(in_features=512, out_features=768, bias=True)\n",
       "                    (1): Dropout(p=0.0, inplace=False)\n",
       "                  )\n",
       "                )\n",
       "              )\n",
       "            )\n",
       "          )\n",
       "          (g): Deterministic(\n",
       "            (net): LayerScale(\n",
       "              (fn): PreNorm(\n",
       "                (norm): LayerNorm((768,), eps=1e-05, elementwise_affine=True)\n",
       "                (fn): FeedForward(\n",
       "                  (net): Sequential(\n",
       "                    (0): Linear(in_features=768, out_features=6144, bias=True)\n",
       "                    (1): GEGLU()\n",
       "                    (2): Dropout(p=0.0, inplace=False)\n",
       "                    (3): Linear(in_features=3072, out_features=768, bias=True)\n",
       "                  )\n",
       "                )\n",
       "              )\n",
       "            )\n",
       "          )\n",
       "        )\n",
       "        (8): ReversibleBlock(\n",
       "          (f): Deterministic(\n",
       "            (net): LayerScale(\n",
       "              (fn): PreNorm(\n",
       "                (norm): LayerNorm((768,), eps=1e-05, elementwise_affine=True)\n",
       "                (fn): Attention(\n",
       "                  (to_qkv): Linear(in_features=768, out_features=1536, bias=False)\n",
       "                  (to_out): Sequential(\n",
       "                    (0): Linear(in_features=512, out_features=768, bias=True)\n",
       "                    (1): Dropout(p=0.0, inplace=False)\n",
       "                  )\n",
       "                )\n",
       "              )\n",
       "            )\n",
       "          )\n",
       "          (g): Deterministic(\n",
       "            (net): LayerScale(\n",
       "              (fn): PreNorm(\n",
       "                (norm): LayerNorm((768,), eps=1e-05, elementwise_affine=True)\n",
       "                (fn): FeedForward(\n",
       "                  (net): Sequential(\n",
       "                    (0): Linear(in_features=768, out_features=6144, bias=True)\n",
       "                    (1): GEGLU()\n",
       "                    (2): Dropout(p=0.0, inplace=False)\n",
       "                    (3): Linear(in_features=3072, out_features=768, bias=True)\n",
       "                  )\n",
       "                )\n",
       "              )\n",
       "            )\n",
       "          )\n",
       "        )\n",
       "        (9): ReversibleBlock(\n",
       "          (f): Deterministic(\n",
       "            (net): LayerScale(\n",
       "              (fn): PreNorm(\n",
       "                (norm): LayerNorm((768,), eps=1e-05, elementwise_affine=True)\n",
       "                (fn): Attention(\n",
       "                  (to_qkv): Linear(in_features=768, out_features=1536, bias=False)\n",
       "                  (to_out): Sequential(\n",
       "                    (0): Linear(in_features=512, out_features=768, bias=True)\n",
       "                    (1): Dropout(p=0.0, inplace=False)\n",
       "                  )\n",
       "                )\n",
       "              )\n",
       "            )\n",
       "          )\n",
       "          (g): Deterministic(\n",
       "            (net): LayerScale(\n",
       "              (fn): PreNorm(\n",
       "                (norm): LayerNorm((768,), eps=1e-05, elementwise_affine=True)\n",
       "                (fn): FeedForward(\n",
       "                  (net): Sequential(\n",
       "                    (0): Linear(in_features=768, out_features=6144, bias=True)\n",
       "                    (1): GEGLU()\n",
       "                    (2): Dropout(p=0.0, inplace=False)\n",
       "                    (3): Linear(in_features=3072, out_features=768, bias=True)\n",
       "                  )\n",
       "                )\n",
       "              )\n",
       "            )\n",
       "          )\n",
       "        )\n",
       "        (10): ReversibleBlock(\n",
       "          (f): Deterministic(\n",
       "            (net): LayerScale(\n",
       "              (fn): PreNorm(\n",
       "                (norm): LayerNorm((768,), eps=1e-05, elementwise_affine=True)\n",
       "                (fn): Attention(\n",
       "                  (to_qkv): Linear(in_features=768, out_features=1536, bias=False)\n",
       "                  (to_out): Sequential(\n",
       "                    (0): Linear(in_features=512, out_features=768, bias=True)\n",
       "                    (1): Dropout(p=0.0, inplace=False)\n",
       "                  )\n",
       "                )\n",
       "              )\n",
       "            )\n",
       "          )\n",
       "          (g): Deterministic(\n",
       "            (net): LayerScale(\n",
       "              (fn): PreNorm(\n",
       "                (norm): LayerNorm((768,), eps=1e-05, elementwise_affine=True)\n",
       "                (fn): FeedForward(\n",
       "                  (net): Sequential(\n",
       "                    (0): Linear(in_features=768, out_features=6144, bias=True)\n",
       "                    (1): GEGLU()\n",
       "                    (2): Dropout(p=0.0, inplace=False)\n",
       "                    (3): Linear(in_features=3072, out_features=768, bias=True)\n",
       "                  )\n",
       "                )\n",
       "              )\n",
       "            )\n",
       "          )\n",
       "        )\n",
       "        (11): ReversibleBlock(\n",
       "          (f): Deterministic(\n",
       "            (net): LayerScale(\n",
       "              (fn): PreNorm(\n",
       "                (norm): LayerNorm((768,), eps=1e-05, elementwise_affine=True)\n",
       "                (fn): Attention(\n",
       "                  (to_qkv): Linear(in_features=768, out_features=1536, bias=False)\n",
       "                  (to_out): Sequential(\n",
       "                    (0): Linear(in_features=512, out_features=768, bias=True)\n",
       "                    (1): Dropout(p=0.0, inplace=False)\n",
       "                  )\n",
       "                )\n",
       "              )\n",
       "            )\n",
       "          )\n",
       "          (g): Deterministic(\n",
       "            (net): LayerScale(\n",
       "              (fn): PreNorm(\n",
       "                (norm): LayerNorm((768,), eps=1e-05, elementwise_affine=True)\n",
       "                (fn): FeedForward(\n",
       "                  (net): Sequential(\n",
       "                    (0): Linear(in_features=768, out_features=6144, bias=True)\n",
       "                    (1): GEGLU()\n",
       "                    (2): Dropout(p=0.0, inplace=False)\n",
       "                    (3): Linear(in_features=3072, out_features=768, bias=True)\n",
       "                  )\n",
       "                )\n",
       "              )\n",
       "            )\n",
       "          )\n",
       "        )\n",
       "      )\n",
       "    )\n",
       "    (layers): ReversibleSequence(\n",
       "      (blocks): ModuleList(\n",
       "        (0): ReversibleBlock(\n",
       "          (f): Deterministic(\n",
       "            (net): LayerScale(\n",
       "              (fn): PreNorm(\n",
       "                (norm): LayerNorm((768,), eps=1e-05, elementwise_affine=True)\n",
       "                (fn): Attention(\n",
       "                  (to_qkv): Linear(in_features=768, out_features=1536, bias=False)\n",
       "                  (to_out): Sequential(\n",
       "                    (0): Linear(in_features=512, out_features=768, bias=True)\n",
       "                    (1): Dropout(p=0.0, inplace=False)\n",
       "                  )\n",
       "                )\n",
       "              )\n",
       "            )\n",
       "          )\n",
       "          (g): Deterministic(\n",
       "            (net): LayerScale(\n",
       "              (fn): PreNorm(\n",
       "                (norm): LayerNorm((768,), eps=1e-05, elementwise_affine=True)\n",
       "                (fn): FeedForward(\n",
       "                  (net): Sequential(\n",
       "                    (0): Linear(in_features=768, out_features=6144, bias=True)\n",
       "                    (1): GEGLU()\n",
       "                    (2): Dropout(p=0.0, inplace=False)\n",
       "                    (3): Linear(in_features=3072, out_features=768, bias=True)\n",
       "                  )\n",
       "                )\n",
       "              )\n",
       "            )\n",
       "          )\n",
       "        )\n",
       "        (1): ReversibleBlock(\n",
       "          (f): Deterministic(\n",
       "            (net): LayerScale(\n",
       "              (fn): PreNorm(\n",
       "                (norm): LayerNorm((768,), eps=1e-05, elementwise_affine=True)\n",
       "                (fn): Attention(\n",
       "                  (to_qkv): Linear(in_features=768, out_features=1536, bias=False)\n",
       "                  (to_out): Sequential(\n",
       "                    (0): Linear(in_features=512, out_features=768, bias=True)\n",
       "                    (1): Dropout(p=0.0, inplace=False)\n",
       "                  )\n",
       "                )\n",
       "              )\n",
       "            )\n",
       "          )\n",
       "          (g): Deterministic(\n",
       "            (net): LayerScale(\n",
       "              (fn): PreNorm(\n",
       "                (norm): LayerNorm((768,), eps=1e-05, elementwise_affine=True)\n",
       "                (fn): FeedForward(\n",
       "                  (net): Sequential(\n",
       "                    (0): Linear(in_features=768, out_features=6144, bias=True)\n",
       "                    (1): GEGLU()\n",
       "                    (2): Dropout(p=0.0, inplace=False)\n",
       "                    (3): Linear(in_features=3072, out_features=768, bias=True)\n",
       "                  )\n",
       "                )\n",
       "              )\n",
       "            )\n",
       "          )\n",
       "        )\n",
       "        (2): ReversibleBlock(\n",
       "          (f): Deterministic(\n",
       "            (net): LayerScale(\n",
       "              (fn): PreNorm(\n",
       "                (norm): LayerNorm((768,), eps=1e-05, elementwise_affine=True)\n",
       "                (fn): Attention(\n",
       "                  (to_qkv): Linear(in_features=768, out_features=1536, bias=False)\n",
       "                  (to_out): Sequential(\n",
       "                    (0): Linear(in_features=512, out_features=768, bias=True)\n",
       "                    (1): Dropout(p=0.0, inplace=False)\n",
       "                  )\n",
       "                )\n",
       "              )\n",
       "            )\n",
       "          )\n",
       "          (g): Deterministic(\n",
       "            (net): LayerScale(\n",
       "              (fn): PreNorm(\n",
       "                (norm): LayerNorm((768,), eps=1e-05, elementwise_affine=True)\n",
       "                (fn): FeedForward(\n",
       "                  (net): Sequential(\n",
       "                    (0): Linear(in_features=768, out_features=6144, bias=True)\n",
       "                    (1): GEGLU()\n",
       "                    (2): Dropout(p=0.0, inplace=False)\n",
       "                    (3): Linear(in_features=3072, out_features=768, bias=True)\n",
       "                  )\n",
       "                )\n",
       "              )\n",
       "            )\n",
       "          )\n",
       "        )\n",
       "        (3): ReversibleBlock(\n",
       "          (f): Deterministic(\n",
       "            (net): LayerScale(\n",
       "              (fn): PreNorm(\n",
       "                (norm): LayerNorm((768,), eps=1e-05, elementwise_affine=True)\n",
       "                (fn): Attention(\n",
       "                  (to_qkv): Linear(in_features=768, out_features=1536, bias=False)\n",
       "                  (to_out): Sequential(\n",
       "                    (0): Linear(in_features=512, out_features=768, bias=True)\n",
       "                    (1): Dropout(p=0.0, inplace=False)\n",
       "                  )\n",
       "                )\n",
       "              )\n",
       "            )\n",
       "          )\n",
       "          (g): Deterministic(\n",
       "            (net): LayerScale(\n",
       "              (fn): PreNorm(\n",
       "                (norm): LayerNorm((768,), eps=1e-05, elementwise_affine=True)\n",
       "                (fn): FeedForward(\n",
       "                  (net): Sequential(\n",
       "                    (0): Linear(in_features=768, out_features=6144, bias=True)\n",
       "                    (1): GEGLU()\n",
       "                    (2): Dropout(p=0.0, inplace=False)\n",
       "                    (3): Linear(in_features=3072, out_features=768, bias=True)\n",
       "                  )\n",
       "                )\n",
       "              )\n",
       "            )\n",
       "          )\n",
       "        )\n",
       "        (4): ReversibleBlock(\n",
       "          (f): Deterministic(\n",
       "            (net): LayerScale(\n",
       "              (fn): PreNorm(\n",
       "                (norm): LayerNorm((768,), eps=1e-05, elementwise_affine=True)\n",
       "                (fn): Attention(\n",
       "                  (to_qkv): Linear(in_features=768, out_features=1536, bias=False)\n",
       "                  (to_out): Sequential(\n",
       "                    (0): Linear(in_features=512, out_features=768, bias=True)\n",
       "                    (1): Dropout(p=0.0, inplace=False)\n",
       "                  )\n",
       "                )\n",
       "              )\n",
       "            )\n",
       "          )\n",
       "          (g): Deterministic(\n",
       "            (net): LayerScale(\n",
       "              (fn): PreNorm(\n",
       "                (norm): LayerNorm((768,), eps=1e-05, elementwise_affine=True)\n",
       "                (fn): FeedForward(\n",
       "                  (net): Sequential(\n",
       "                    (0): Linear(in_features=768, out_features=6144, bias=True)\n",
       "                    (1): GEGLU()\n",
       "                    (2): Dropout(p=0.0, inplace=False)\n",
       "                    (3): Linear(in_features=3072, out_features=768, bias=True)\n",
       "                  )\n",
       "                )\n",
       "              )\n",
       "            )\n",
       "          )\n",
       "        )\n",
       "        (5): ReversibleBlock(\n",
       "          (f): Deterministic(\n",
       "            (net): LayerScale(\n",
       "              (fn): PreNorm(\n",
       "                (norm): LayerNorm((768,), eps=1e-05, elementwise_affine=True)\n",
       "                (fn): Attention(\n",
       "                  (to_qkv): Linear(in_features=768, out_features=1536, bias=False)\n",
       "                  (to_out): Sequential(\n",
       "                    (0): Linear(in_features=512, out_features=768, bias=True)\n",
       "                    (1): Dropout(p=0.0, inplace=False)\n",
       "                  )\n",
       "                )\n",
       "              )\n",
       "            )\n",
       "          )\n",
       "          (g): Deterministic(\n",
       "            (net): LayerScale(\n",
       "              (fn): PreNorm(\n",
       "                (norm): LayerNorm((768,), eps=1e-05, elementwise_affine=True)\n",
       "                (fn): FeedForward(\n",
       "                  (net): Sequential(\n",
       "                    (0): Linear(in_features=768, out_features=6144, bias=True)\n",
       "                    (1): GEGLU()\n",
       "                    (2): Dropout(p=0.0, inplace=False)\n",
       "                    (3): Linear(in_features=3072, out_features=768, bias=True)\n",
       "                  )\n",
       "                )\n",
       "              )\n",
       "            )\n",
       "          )\n",
       "        )\n",
       "        (6): ReversibleBlock(\n",
       "          (f): Deterministic(\n",
       "            (net): LayerScale(\n",
       "              (fn): PreNorm(\n",
       "                (norm): LayerNorm((768,), eps=1e-05, elementwise_affine=True)\n",
       "                (fn): Attention(\n",
       "                  (to_qkv): Linear(in_features=768, out_features=1536, bias=False)\n",
       "                  (to_out): Sequential(\n",
       "                    (0): Linear(in_features=512, out_features=768, bias=True)\n",
       "                    (1): Dropout(p=0.0, inplace=False)\n",
       "                  )\n",
       "                )\n",
       "              )\n",
       "            )\n",
       "          )\n",
       "          (g): Deterministic(\n",
       "            (net): LayerScale(\n",
       "              (fn): PreNorm(\n",
       "                (norm): LayerNorm((768,), eps=1e-05, elementwise_affine=True)\n",
       "                (fn): FeedForward(\n",
       "                  (net): Sequential(\n",
       "                    (0): Linear(in_features=768, out_features=6144, bias=True)\n",
       "                    (1): GEGLU()\n",
       "                    (2): Dropout(p=0.0, inplace=False)\n",
       "                    (3): Linear(in_features=3072, out_features=768, bias=True)\n",
       "                  )\n",
       "                )\n",
       "              )\n",
       "            )\n",
       "          )\n",
       "        )\n",
       "        (7): ReversibleBlock(\n",
       "          (f): Deterministic(\n",
       "            (net): LayerScale(\n",
       "              (fn): PreNorm(\n",
       "                (norm): LayerNorm((768,), eps=1e-05, elementwise_affine=True)\n",
       "                (fn): Attention(\n",
       "                  (to_qkv): Linear(in_features=768, out_features=1536, bias=False)\n",
       "                  (to_out): Sequential(\n",
       "                    (0): Linear(in_features=512, out_features=768, bias=True)\n",
       "                    (1): Dropout(p=0.0, inplace=False)\n",
       "                  )\n",
       "                )\n",
       "              )\n",
       "            )\n",
       "          )\n",
       "          (g): Deterministic(\n",
       "            (net): LayerScale(\n",
       "              (fn): PreNorm(\n",
       "                (norm): LayerNorm((768,), eps=1e-05, elementwise_affine=True)\n",
       "                (fn): FeedForward(\n",
       "                  (net): Sequential(\n",
       "                    (0): Linear(in_features=768, out_features=6144, bias=True)\n",
       "                    (1): GEGLU()\n",
       "                    (2): Dropout(p=0.0, inplace=False)\n",
       "                    (3): Linear(in_features=3072, out_features=768, bias=True)\n",
       "                  )\n",
       "                )\n",
       "              )\n",
       "            )\n",
       "          )\n",
       "        )\n",
       "        (8): ReversibleBlock(\n",
       "          (f): Deterministic(\n",
       "            (net): LayerScale(\n",
       "              (fn): PreNorm(\n",
       "                (norm): LayerNorm((768,), eps=1e-05, elementwise_affine=True)\n",
       "                (fn): Attention(\n",
       "                  (to_qkv): Linear(in_features=768, out_features=1536, bias=False)\n",
       "                  (to_out): Sequential(\n",
       "                    (0): Linear(in_features=512, out_features=768, bias=True)\n",
       "                    (1): Dropout(p=0.0, inplace=False)\n",
       "                  )\n",
       "                )\n",
       "              )\n",
       "            )\n",
       "          )\n",
       "          (g): Deterministic(\n",
       "            (net): LayerScale(\n",
       "              (fn): PreNorm(\n",
       "                (norm): LayerNorm((768,), eps=1e-05, elementwise_affine=True)\n",
       "                (fn): FeedForward(\n",
       "                  (net): Sequential(\n",
       "                    (0): Linear(in_features=768, out_features=6144, bias=True)\n",
       "                    (1): GEGLU()\n",
       "                    (2): Dropout(p=0.0, inplace=False)\n",
       "                    (3): Linear(in_features=3072, out_features=768, bias=True)\n",
       "                  )\n",
       "                )\n",
       "              )\n",
       "            )\n",
       "          )\n",
       "        )\n",
       "        (9): ReversibleBlock(\n",
       "          (f): Deterministic(\n",
       "            (net): LayerScale(\n",
       "              (fn): PreNorm(\n",
       "                (norm): LayerNorm((768,), eps=1e-05, elementwise_affine=True)\n",
       "                (fn): Attention(\n",
       "                  (to_qkv): Linear(in_features=768, out_features=1536, bias=False)\n",
       "                  (to_out): Sequential(\n",
       "                    (0): Linear(in_features=512, out_features=768, bias=True)\n",
       "                    (1): Dropout(p=0.0, inplace=False)\n",
       "                  )\n",
       "                )\n",
       "              )\n",
       "            )\n",
       "          )\n",
       "          (g): Deterministic(\n",
       "            (net): LayerScale(\n",
       "              (fn): PreNorm(\n",
       "                (norm): LayerNorm((768,), eps=1e-05, elementwise_affine=True)\n",
       "                (fn): FeedForward(\n",
       "                  (net): Sequential(\n",
       "                    (0): Linear(in_features=768, out_features=6144, bias=True)\n",
       "                    (1): GEGLU()\n",
       "                    (2): Dropout(p=0.0, inplace=False)\n",
       "                    (3): Linear(in_features=3072, out_features=768, bias=True)\n",
       "                  )\n",
       "                )\n",
       "              )\n",
       "            )\n",
       "          )\n",
       "        )\n",
       "        (10): ReversibleBlock(\n",
       "          (f): Deterministic(\n",
       "            (net): LayerScale(\n",
       "              (fn): PreNorm(\n",
       "                (norm): LayerNorm((768,), eps=1e-05, elementwise_affine=True)\n",
       "                (fn): Attention(\n",
       "                  (to_qkv): Linear(in_features=768, out_features=1536, bias=False)\n",
       "                  (to_out): Sequential(\n",
       "                    (0): Linear(in_features=512, out_features=768, bias=True)\n",
       "                    (1): Dropout(p=0.0, inplace=False)\n",
       "                  )\n",
       "                )\n",
       "              )\n",
       "            )\n",
       "          )\n",
       "          (g): Deterministic(\n",
       "            (net): LayerScale(\n",
       "              (fn): PreNorm(\n",
       "                (norm): LayerNorm((768,), eps=1e-05, elementwise_affine=True)\n",
       "                (fn): FeedForward(\n",
       "                  (net): Sequential(\n",
       "                    (0): Linear(in_features=768, out_features=6144, bias=True)\n",
       "                    (1): GEGLU()\n",
       "                    (2): Dropout(p=0.0, inplace=False)\n",
       "                    (3): Linear(in_features=3072, out_features=768, bias=True)\n",
       "                  )\n",
       "                )\n",
       "              )\n",
       "            )\n",
       "          )\n",
       "        )\n",
       "        (11): ReversibleBlock(\n",
       "          (f): Deterministic(\n",
       "            (net): LayerScale(\n",
       "              (fn): PreNorm(\n",
       "                (norm): LayerNorm((768,), eps=1e-05, elementwise_affine=True)\n",
       "                (fn): Attention(\n",
       "                  (to_qkv): Linear(in_features=768, out_features=1536, bias=False)\n",
       "                  (to_out): Sequential(\n",
       "                    (0): Linear(in_features=512, out_features=768, bias=True)\n",
       "                    (1): Dropout(p=0.0, inplace=False)\n",
       "                  )\n",
       "                )\n",
       "              )\n",
       "            )\n",
       "          )\n",
       "          (g): Deterministic(\n",
       "            (net): LayerScale(\n",
       "              (fn): PreNorm(\n",
       "                (norm): LayerNorm((768,), eps=1e-05, elementwise_affine=True)\n",
       "                (fn): FeedForward(\n",
       "                  (net): Sequential(\n",
       "                    (0): Linear(in_features=768, out_features=6144, bias=True)\n",
       "                    (1): GEGLU()\n",
       "                    (2): Dropout(p=0.0, inplace=False)\n",
       "                    (3): Linear(in_features=3072, out_features=768, bias=True)\n",
       "                  )\n",
       "                )\n",
       "              )\n",
       "            )\n",
       "          )\n",
       "        )\n",
       "      )\n",
       "    )\n",
       "    (norm): LayerNorm((768,), eps=1e-05, elementwise_affine=True)\n",
       "  )\n",
       "  (bioseq_encoder): Transformer(\n",
       "    (token_emb): Embedding(23, 768)\n",
       "    (pos_emb): SinuEmb()\n",
       "    (rel_pos_emb): SinuEmb()\n",
       "    (net): ReversibleSequence(\n",
       "      (blocks): ModuleList(\n",
       "        (0): ReversibleBlock(\n",
       "          (f): Deterministic(\n",
       "            (net): LayerScale(\n",
       "              (fn): PreNorm(\n",
       "                (norm): LayerNorm((768,), eps=1e-05, elementwise_affine=True)\n",
       "                (fn): Attention(\n",
       "                  (to_qkv): Linear(in_features=768, out_features=1536, bias=False)\n",
       "                  (to_out): Sequential(\n",
       "                    (0): Linear(in_features=512, out_features=768, bias=True)\n",
       "                    (1): Dropout(p=0.0, inplace=False)\n",
       "                  )\n",
       "                )\n",
       "              )\n",
       "            )\n",
       "          )\n",
       "          (g): Deterministic(\n",
       "            (net): LayerScale(\n",
       "              (fn): PreNorm(\n",
       "                (norm): LayerNorm((768,), eps=1e-05, elementwise_affine=True)\n",
       "                (fn): FeedForward(\n",
       "                  (net): Sequential(\n",
       "                    (0): Linear(in_features=768, out_features=6144, bias=True)\n",
       "                    (1): GEGLU()\n",
       "                    (2): Dropout(p=0.0, inplace=False)\n",
       "                    (3): Linear(in_features=3072, out_features=768, bias=True)\n",
       "                  )\n",
       "                )\n",
       "              )\n",
       "            )\n",
       "          )\n",
       "        )\n",
       "        (1): ReversibleBlock(\n",
       "          (f): Deterministic(\n",
       "            (net): LayerScale(\n",
       "              (fn): PreNorm(\n",
       "                (norm): LayerNorm((768,), eps=1e-05, elementwise_affine=True)\n",
       "                (fn): Attention(\n",
       "                  (to_qkv): Linear(in_features=768, out_features=1536, bias=False)\n",
       "                  (to_out): Sequential(\n",
       "                    (0): Linear(in_features=512, out_features=768, bias=True)\n",
       "                    (1): Dropout(p=0.0, inplace=False)\n",
       "                  )\n",
       "                )\n",
       "              )\n",
       "            )\n",
       "          )\n",
       "          (g): Deterministic(\n",
       "            (net): LayerScale(\n",
       "              (fn): PreNorm(\n",
       "                (norm): LayerNorm((768,), eps=1e-05, elementwise_affine=True)\n",
       "                (fn): FeedForward(\n",
       "                  (net): Sequential(\n",
       "                    (0): Linear(in_features=768, out_features=6144, bias=True)\n",
       "                    (1): GEGLU()\n",
       "                    (2): Dropout(p=0.0, inplace=False)\n",
       "                    (3): Linear(in_features=3072, out_features=768, bias=True)\n",
       "                  )\n",
       "                )\n",
       "              )\n",
       "            )\n",
       "          )\n",
       "        )\n",
       "        (2): ReversibleBlock(\n",
       "          (f): Deterministic(\n",
       "            (net): LayerScale(\n",
       "              (fn): PreNorm(\n",
       "                (norm): LayerNorm((768,), eps=1e-05, elementwise_affine=True)\n",
       "                (fn): Attention(\n",
       "                  (to_qkv): Linear(in_features=768, out_features=1536, bias=False)\n",
       "                  (to_out): Sequential(\n",
       "                    (0): Linear(in_features=512, out_features=768, bias=True)\n",
       "                    (1): Dropout(p=0.0, inplace=False)\n",
       "                  )\n",
       "                )\n",
       "              )\n",
       "            )\n",
       "          )\n",
       "          (g): Deterministic(\n",
       "            (net): LayerScale(\n",
       "              (fn): PreNorm(\n",
       "                (norm): LayerNorm((768,), eps=1e-05, elementwise_affine=True)\n",
       "                (fn): FeedForward(\n",
       "                  (net): Sequential(\n",
       "                    (0): Linear(in_features=768, out_features=6144, bias=True)\n",
       "                    (1): GEGLU()\n",
       "                    (2): Dropout(p=0.0, inplace=False)\n",
       "                    (3): Linear(in_features=3072, out_features=768, bias=True)\n",
       "                  )\n",
       "                )\n",
       "              )\n",
       "            )\n",
       "          )\n",
       "        )\n",
       "        (3): ReversibleBlock(\n",
       "          (f): Deterministic(\n",
       "            (net): LayerScale(\n",
       "              (fn): PreNorm(\n",
       "                (norm): LayerNorm((768,), eps=1e-05, elementwise_affine=True)\n",
       "                (fn): Attention(\n",
       "                  (to_qkv): Linear(in_features=768, out_features=1536, bias=False)\n",
       "                  (to_out): Sequential(\n",
       "                    (0): Linear(in_features=512, out_features=768, bias=True)\n",
       "                    (1): Dropout(p=0.0, inplace=False)\n",
       "                  )\n",
       "                )\n",
       "              )\n",
       "            )\n",
       "          )\n",
       "          (g): Deterministic(\n",
       "            (net): LayerScale(\n",
       "              (fn): PreNorm(\n",
       "                (norm): LayerNorm((768,), eps=1e-05, elementwise_affine=True)\n",
       "                (fn): FeedForward(\n",
       "                  (net): Sequential(\n",
       "                    (0): Linear(in_features=768, out_features=6144, bias=True)\n",
       "                    (1): GEGLU()\n",
       "                    (2): Dropout(p=0.0, inplace=False)\n",
       "                    (3): Linear(in_features=3072, out_features=768, bias=True)\n",
       "                  )\n",
       "                )\n",
       "              )\n",
       "            )\n",
       "          )\n",
       "        )\n",
       "        (4): ReversibleBlock(\n",
       "          (f): Deterministic(\n",
       "            (net): LayerScale(\n",
       "              (fn): PreNorm(\n",
       "                (norm): LayerNorm((768,), eps=1e-05, elementwise_affine=True)\n",
       "                (fn): Attention(\n",
       "                  (to_qkv): Linear(in_features=768, out_features=1536, bias=False)\n",
       "                  (to_out): Sequential(\n",
       "                    (0): Linear(in_features=512, out_features=768, bias=True)\n",
       "                    (1): Dropout(p=0.0, inplace=False)\n",
       "                  )\n",
       "                )\n",
       "              )\n",
       "            )\n",
       "          )\n",
       "          (g): Deterministic(\n",
       "            (net): LayerScale(\n",
       "              (fn): PreNorm(\n",
       "                (norm): LayerNorm((768,), eps=1e-05, elementwise_affine=True)\n",
       "                (fn): FeedForward(\n",
       "                  (net): Sequential(\n",
       "                    (0): Linear(in_features=768, out_features=6144, bias=True)\n",
       "                    (1): GEGLU()\n",
       "                    (2): Dropout(p=0.0, inplace=False)\n",
       "                    (3): Linear(in_features=3072, out_features=768, bias=True)\n",
       "                  )\n",
       "                )\n",
       "              )\n",
       "            )\n",
       "          )\n",
       "        )\n",
       "        (5): ReversibleBlock(\n",
       "          (f): Deterministic(\n",
       "            (net): LayerScale(\n",
       "              (fn): PreNorm(\n",
       "                (norm): LayerNorm((768,), eps=1e-05, elementwise_affine=True)\n",
       "                (fn): Attention(\n",
       "                  (to_qkv): Linear(in_features=768, out_features=1536, bias=False)\n",
       "                  (to_out): Sequential(\n",
       "                    (0): Linear(in_features=512, out_features=768, bias=True)\n",
       "                    (1): Dropout(p=0.0, inplace=False)\n",
       "                  )\n",
       "                )\n",
       "              )\n",
       "            )\n",
       "          )\n",
       "          (g): Deterministic(\n",
       "            (net): LayerScale(\n",
       "              (fn): PreNorm(\n",
       "                (norm): LayerNorm((768,), eps=1e-05, elementwise_affine=True)\n",
       "                (fn): FeedForward(\n",
       "                  (net): Sequential(\n",
       "                    (0): Linear(in_features=768, out_features=6144, bias=True)\n",
       "                    (1): GEGLU()\n",
       "                    (2): Dropout(p=0.0, inplace=False)\n",
       "                    (3): Linear(in_features=3072, out_features=768, bias=True)\n",
       "                  )\n",
       "                )\n",
       "              )\n",
       "            )\n",
       "          )\n",
       "        )\n",
       "        (6): ReversibleBlock(\n",
       "          (f): Deterministic(\n",
       "            (net): LayerScale(\n",
       "              (fn): PreNorm(\n",
       "                (norm): LayerNorm((768,), eps=1e-05, elementwise_affine=True)\n",
       "                (fn): Attention(\n",
       "                  (to_qkv): Linear(in_features=768, out_features=1536, bias=False)\n",
       "                  (to_out): Sequential(\n",
       "                    (0): Linear(in_features=512, out_features=768, bias=True)\n",
       "                    (1): Dropout(p=0.0, inplace=False)\n",
       "                  )\n",
       "                )\n",
       "              )\n",
       "            )\n",
       "          )\n",
       "          (g): Deterministic(\n",
       "            (net): LayerScale(\n",
       "              (fn): PreNorm(\n",
       "                (norm): LayerNorm((768,), eps=1e-05, elementwise_affine=True)\n",
       "                (fn): FeedForward(\n",
       "                  (net): Sequential(\n",
       "                    (0): Linear(in_features=768, out_features=6144, bias=True)\n",
       "                    (1): GEGLU()\n",
       "                    (2): Dropout(p=0.0, inplace=False)\n",
       "                    (3): Linear(in_features=3072, out_features=768, bias=True)\n",
       "                  )\n",
       "                )\n",
       "              )\n",
       "            )\n",
       "          )\n",
       "        )\n",
       "        (7): ReversibleBlock(\n",
       "          (f): Deterministic(\n",
       "            (net): LayerScale(\n",
       "              (fn): PreNorm(\n",
       "                (norm): LayerNorm((768,), eps=1e-05, elementwise_affine=True)\n",
       "                (fn): Attention(\n",
       "                  (to_qkv): Linear(in_features=768, out_features=1536, bias=False)\n",
       "                  (to_out): Sequential(\n",
       "                    (0): Linear(in_features=512, out_features=768, bias=True)\n",
       "                    (1): Dropout(p=0.0, inplace=False)\n",
       "                  )\n",
       "                )\n",
       "              )\n",
       "            )\n",
       "          )\n",
       "          (g): Deterministic(\n",
       "            (net): LayerScale(\n",
       "              (fn): PreNorm(\n",
       "                (norm): LayerNorm((768,), eps=1e-05, elementwise_affine=True)\n",
       "                (fn): FeedForward(\n",
       "                  (net): Sequential(\n",
       "                    (0): Linear(in_features=768, out_features=6144, bias=True)\n",
       "                    (1): GEGLU()\n",
       "                    (2): Dropout(p=0.0, inplace=False)\n",
       "                    (3): Linear(in_features=3072, out_features=768, bias=True)\n",
       "                  )\n",
       "                )\n",
       "              )\n",
       "            )\n",
       "          )\n",
       "        )\n",
       "        (8): ReversibleBlock(\n",
       "          (f): Deterministic(\n",
       "            (net): LayerScale(\n",
       "              (fn): PreNorm(\n",
       "                (norm): LayerNorm((768,), eps=1e-05, elementwise_affine=True)\n",
       "                (fn): Attention(\n",
       "                  (to_qkv): Linear(in_features=768, out_features=1536, bias=False)\n",
       "                  (to_out): Sequential(\n",
       "                    (0): Linear(in_features=512, out_features=768, bias=True)\n",
       "                    (1): Dropout(p=0.0, inplace=False)\n",
       "                  )\n",
       "                )\n",
       "              )\n",
       "            )\n",
       "          )\n",
       "          (g): Deterministic(\n",
       "            (net): LayerScale(\n",
       "              (fn): PreNorm(\n",
       "                (norm): LayerNorm((768,), eps=1e-05, elementwise_affine=True)\n",
       "                (fn): FeedForward(\n",
       "                  (net): Sequential(\n",
       "                    (0): Linear(in_features=768, out_features=6144, bias=True)\n",
       "                    (1): GEGLU()\n",
       "                    (2): Dropout(p=0.0, inplace=False)\n",
       "                    (3): Linear(in_features=3072, out_features=768, bias=True)\n",
       "                  )\n",
       "                )\n",
       "              )\n",
       "            )\n",
       "          )\n",
       "        )\n",
       "        (9): ReversibleBlock(\n",
       "          (f): Deterministic(\n",
       "            (net): LayerScale(\n",
       "              (fn): PreNorm(\n",
       "                (norm): LayerNorm((768,), eps=1e-05, elementwise_affine=True)\n",
       "                (fn): Attention(\n",
       "                  (to_qkv): Linear(in_features=768, out_features=1536, bias=False)\n",
       "                  (to_out): Sequential(\n",
       "                    (0): Linear(in_features=512, out_features=768, bias=True)\n",
       "                    (1): Dropout(p=0.0, inplace=False)\n",
       "                  )\n",
       "                )\n",
       "              )\n",
       "            )\n",
       "          )\n",
       "          (g): Deterministic(\n",
       "            (net): LayerScale(\n",
       "              (fn): PreNorm(\n",
       "                (norm): LayerNorm((768,), eps=1e-05, elementwise_affine=True)\n",
       "                (fn): FeedForward(\n",
       "                  (net): Sequential(\n",
       "                    (0): Linear(in_features=768, out_features=6144, bias=True)\n",
       "                    (1): GEGLU()\n",
       "                    (2): Dropout(p=0.0, inplace=False)\n",
       "                    (3): Linear(in_features=3072, out_features=768, bias=True)\n",
       "                  )\n",
       "                )\n",
       "              )\n",
       "            )\n",
       "          )\n",
       "        )\n",
       "        (10): ReversibleBlock(\n",
       "          (f): Deterministic(\n",
       "            (net): LayerScale(\n",
       "              (fn): PreNorm(\n",
       "                (norm): LayerNorm((768,), eps=1e-05, elementwise_affine=True)\n",
       "                (fn): Attention(\n",
       "                  (to_qkv): Linear(in_features=768, out_features=1536, bias=False)\n",
       "                  (to_out): Sequential(\n",
       "                    (0): Linear(in_features=512, out_features=768, bias=True)\n",
       "                    (1): Dropout(p=0.0, inplace=False)\n",
       "                  )\n",
       "                )\n",
       "              )\n",
       "            )\n",
       "          )\n",
       "          (g): Deterministic(\n",
       "            (net): LayerScale(\n",
       "              (fn): PreNorm(\n",
       "                (norm): LayerNorm((768,), eps=1e-05, elementwise_affine=True)\n",
       "                (fn): FeedForward(\n",
       "                  (net): Sequential(\n",
       "                    (0): Linear(in_features=768, out_features=6144, bias=True)\n",
       "                    (1): GEGLU()\n",
       "                    (2): Dropout(p=0.0, inplace=False)\n",
       "                    (3): Linear(in_features=3072, out_features=768, bias=True)\n",
       "                  )\n",
       "                )\n",
       "              )\n",
       "            )\n",
       "          )\n",
       "        )\n",
       "        (11): ReversibleBlock(\n",
       "          (f): Deterministic(\n",
       "            (net): LayerScale(\n",
       "              (fn): PreNorm(\n",
       "                (norm): LayerNorm((768,), eps=1e-05, elementwise_affine=True)\n",
       "                (fn): Attention(\n",
       "                  (to_qkv): Linear(in_features=768, out_features=1536, bias=False)\n",
       "                  (to_out): Sequential(\n",
       "                    (0): Linear(in_features=512, out_features=768, bias=True)\n",
       "                    (1): Dropout(p=0.0, inplace=False)\n",
       "                  )\n",
       "                )\n",
       "              )\n",
       "            )\n",
       "          )\n",
       "          (g): Deterministic(\n",
       "            (net): LayerScale(\n",
       "              (fn): PreNorm(\n",
       "                (norm): LayerNorm((768,), eps=1e-05, elementwise_affine=True)\n",
       "                (fn): FeedForward(\n",
       "                  (net): Sequential(\n",
       "                    (0): Linear(in_features=768, out_features=6144, bias=True)\n",
       "                    (1): GEGLU()\n",
       "                    (2): Dropout(p=0.0, inplace=False)\n",
       "                    (3): Linear(in_features=3072, out_features=768, bias=True)\n",
       "                  )\n",
       "                )\n",
       "              )\n",
       "            )\n",
       "          )\n",
       "        )\n",
       "      )\n",
       "    )\n",
       "    (layers): ReversibleSequence(\n",
       "      (blocks): ModuleList(\n",
       "        (0): ReversibleBlock(\n",
       "          (f): Deterministic(\n",
       "            (net): LayerScale(\n",
       "              (fn): PreNorm(\n",
       "                (norm): LayerNorm((768,), eps=1e-05, elementwise_affine=True)\n",
       "                (fn): Attention(\n",
       "                  (to_qkv): Linear(in_features=768, out_features=1536, bias=False)\n",
       "                  (to_out): Sequential(\n",
       "                    (0): Linear(in_features=512, out_features=768, bias=True)\n",
       "                    (1): Dropout(p=0.0, inplace=False)\n",
       "                  )\n",
       "                )\n",
       "              )\n",
       "            )\n",
       "          )\n",
       "          (g): Deterministic(\n",
       "            (net): LayerScale(\n",
       "              (fn): PreNorm(\n",
       "                (norm): LayerNorm((768,), eps=1e-05, elementwise_affine=True)\n",
       "                (fn): FeedForward(\n",
       "                  (net): Sequential(\n",
       "                    (0): Linear(in_features=768, out_features=6144, bias=True)\n",
       "                    (1): GEGLU()\n",
       "                    (2): Dropout(p=0.0, inplace=False)\n",
       "                    (3): Linear(in_features=3072, out_features=768, bias=True)\n",
       "                  )\n",
       "                )\n",
       "              )\n",
       "            )\n",
       "          )\n",
       "        )\n",
       "        (1): ReversibleBlock(\n",
       "          (f): Deterministic(\n",
       "            (net): LayerScale(\n",
       "              (fn): PreNorm(\n",
       "                (norm): LayerNorm((768,), eps=1e-05, elementwise_affine=True)\n",
       "                (fn): Attention(\n",
       "                  (to_qkv): Linear(in_features=768, out_features=1536, bias=False)\n",
       "                  (to_out): Sequential(\n",
       "                    (0): Linear(in_features=512, out_features=768, bias=True)\n",
       "                    (1): Dropout(p=0.0, inplace=False)\n",
       "                  )\n",
       "                )\n",
       "              )\n",
       "            )\n",
       "          )\n",
       "          (g): Deterministic(\n",
       "            (net): LayerScale(\n",
       "              (fn): PreNorm(\n",
       "                (norm): LayerNorm((768,), eps=1e-05, elementwise_affine=True)\n",
       "                (fn): FeedForward(\n",
       "                  (net): Sequential(\n",
       "                    (0): Linear(in_features=768, out_features=6144, bias=True)\n",
       "                    (1): GEGLU()\n",
       "                    (2): Dropout(p=0.0, inplace=False)\n",
       "                    (3): Linear(in_features=3072, out_features=768, bias=True)\n",
       "                  )\n",
       "                )\n",
       "              )\n",
       "            )\n",
       "          )\n",
       "        )\n",
       "        (2): ReversibleBlock(\n",
       "          (f): Deterministic(\n",
       "            (net): LayerScale(\n",
       "              (fn): PreNorm(\n",
       "                (norm): LayerNorm((768,), eps=1e-05, elementwise_affine=True)\n",
       "                (fn): Attention(\n",
       "                  (to_qkv): Linear(in_features=768, out_features=1536, bias=False)\n",
       "                  (to_out): Sequential(\n",
       "                    (0): Linear(in_features=512, out_features=768, bias=True)\n",
       "                    (1): Dropout(p=0.0, inplace=False)\n",
       "                  )\n",
       "                )\n",
       "              )\n",
       "            )\n",
       "          )\n",
       "          (g): Deterministic(\n",
       "            (net): LayerScale(\n",
       "              (fn): PreNorm(\n",
       "                (norm): LayerNorm((768,), eps=1e-05, elementwise_affine=True)\n",
       "                (fn): FeedForward(\n",
       "                  (net): Sequential(\n",
       "                    (0): Linear(in_features=768, out_features=6144, bias=True)\n",
       "                    (1): GEGLU()\n",
       "                    (2): Dropout(p=0.0, inplace=False)\n",
       "                    (3): Linear(in_features=3072, out_features=768, bias=True)\n",
       "                  )\n",
       "                )\n",
       "              )\n",
       "            )\n",
       "          )\n",
       "        )\n",
       "        (3): ReversibleBlock(\n",
       "          (f): Deterministic(\n",
       "            (net): LayerScale(\n",
       "              (fn): PreNorm(\n",
       "                (norm): LayerNorm((768,), eps=1e-05, elementwise_affine=True)\n",
       "                (fn): Attention(\n",
       "                  (to_qkv): Linear(in_features=768, out_features=1536, bias=False)\n",
       "                  (to_out): Sequential(\n",
       "                    (0): Linear(in_features=512, out_features=768, bias=True)\n",
       "                    (1): Dropout(p=0.0, inplace=False)\n",
       "                  )\n",
       "                )\n",
       "              )\n",
       "            )\n",
       "          )\n",
       "          (g): Deterministic(\n",
       "            (net): LayerScale(\n",
       "              (fn): PreNorm(\n",
       "                (norm): LayerNorm((768,), eps=1e-05, elementwise_affine=True)\n",
       "                (fn): FeedForward(\n",
       "                  (net): Sequential(\n",
       "                    (0): Linear(in_features=768, out_features=6144, bias=True)\n",
       "                    (1): GEGLU()\n",
       "                    (2): Dropout(p=0.0, inplace=False)\n",
       "                    (3): Linear(in_features=3072, out_features=768, bias=True)\n",
       "                  )\n",
       "                )\n",
       "              )\n",
       "            )\n",
       "          )\n",
       "        )\n",
       "        (4): ReversibleBlock(\n",
       "          (f): Deterministic(\n",
       "            (net): LayerScale(\n",
       "              (fn): PreNorm(\n",
       "                (norm): LayerNorm((768,), eps=1e-05, elementwise_affine=True)\n",
       "                (fn): Attention(\n",
       "                  (to_qkv): Linear(in_features=768, out_features=1536, bias=False)\n",
       "                  (to_out): Sequential(\n",
       "                    (0): Linear(in_features=512, out_features=768, bias=True)\n",
       "                    (1): Dropout(p=0.0, inplace=False)\n",
       "                  )\n",
       "                )\n",
       "              )\n",
       "            )\n",
       "          )\n",
       "          (g): Deterministic(\n",
       "            (net): LayerScale(\n",
       "              (fn): PreNorm(\n",
       "                (norm): LayerNorm((768,), eps=1e-05, elementwise_affine=True)\n",
       "                (fn): FeedForward(\n",
       "                  (net): Sequential(\n",
       "                    (0): Linear(in_features=768, out_features=6144, bias=True)\n",
       "                    (1): GEGLU()\n",
       "                    (2): Dropout(p=0.0, inplace=False)\n",
       "                    (3): Linear(in_features=3072, out_features=768, bias=True)\n",
       "                  )\n",
       "                )\n",
       "              )\n",
       "            )\n",
       "          )\n",
       "        )\n",
       "        (5): ReversibleBlock(\n",
       "          (f): Deterministic(\n",
       "            (net): LayerScale(\n",
       "              (fn): PreNorm(\n",
       "                (norm): LayerNorm((768,), eps=1e-05, elementwise_affine=True)\n",
       "                (fn): Attention(\n",
       "                  (to_qkv): Linear(in_features=768, out_features=1536, bias=False)\n",
       "                  (to_out): Sequential(\n",
       "                    (0): Linear(in_features=512, out_features=768, bias=True)\n",
       "                    (1): Dropout(p=0.0, inplace=False)\n",
       "                  )\n",
       "                )\n",
       "              )\n",
       "            )\n",
       "          )\n",
       "          (g): Deterministic(\n",
       "            (net): LayerScale(\n",
       "              (fn): PreNorm(\n",
       "                (norm): LayerNorm((768,), eps=1e-05, elementwise_affine=True)\n",
       "                (fn): FeedForward(\n",
       "                  (net): Sequential(\n",
       "                    (0): Linear(in_features=768, out_features=6144, bias=True)\n",
       "                    (1): GEGLU()\n",
       "                    (2): Dropout(p=0.0, inplace=False)\n",
       "                    (3): Linear(in_features=3072, out_features=768, bias=True)\n",
       "                  )\n",
       "                )\n",
       "              )\n",
       "            )\n",
       "          )\n",
       "        )\n",
       "        (6): ReversibleBlock(\n",
       "          (f): Deterministic(\n",
       "            (net): LayerScale(\n",
       "              (fn): PreNorm(\n",
       "                (norm): LayerNorm((768,), eps=1e-05, elementwise_affine=True)\n",
       "                (fn): Attention(\n",
       "                  (to_qkv): Linear(in_features=768, out_features=1536, bias=False)\n",
       "                  (to_out): Sequential(\n",
       "                    (0): Linear(in_features=512, out_features=768, bias=True)\n",
       "                    (1): Dropout(p=0.0, inplace=False)\n",
       "                  )\n",
       "                )\n",
       "              )\n",
       "            )\n",
       "          )\n",
       "          (g): Deterministic(\n",
       "            (net): LayerScale(\n",
       "              (fn): PreNorm(\n",
       "                (norm): LayerNorm((768,), eps=1e-05, elementwise_affine=True)\n",
       "                (fn): FeedForward(\n",
       "                  (net): Sequential(\n",
       "                    (0): Linear(in_features=768, out_features=6144, bias=True)\n",
       "                    (1): GEGLU()\n",
       "                    (2): Dropout(p=0.0, inplace=False)\n",
       "                    (3): Linear(in_features=3072, out_features=768, bias=True)\n",
       "                  )\n",
       "                )\n",
       "              )\n",
       "            )\n",
       "          )\n",
       "        )\n",
       "        (7): ReversibleBlock(\n",
       "          (f): Deterministic(\n",
       "            (net): LayerScale(\n",
       "              (fn): PreNorm(\n",
       "                (norm): LayerNorm((768,), eps=1e-05, elementwise_affine=True)\n",
       "                (fn): Attention(\n",
       "                  (to_qkv): Linear(in_features=768, out_features=1536, bias=False)\n",
       "                  (to_out): Sequential(\n",
       "                    (0): Linear(in_features=512, out_features=768, bias=True)\n",
       "                    (1): Dropout(p=0.0, inplace=False)\n",
       "                  )\n",
       "                )\n",
       "              )\n",
       "            )\n",
       "          )\n",
       "          (g): Deterministic(\n",
       "            (net): LayerScale(\n",
       "              (fn): PreNorm(\n",
       "                (norm): LayerNorm((768,), eps=1e-05, elementwise_affine=True)\n",
       "                (fn): FeedForward(\n",
       "                  (net): Sequential(\n",
       "                    (0): Linear(in_features=768, out_features=6144, bias=True)\n",
       "                    (1): GEGLU()\n",
       "                    (2): Dropout(p=0.0, inplace=False)\n",
       "                    (3): Linear(in_features=3072, out_features=768, bias=True)\n",
       "                  )\n",
       "                )\n",
       "              )\n",
       "            )\n",
       "          )\n",
       "        )\n",
       "        (8): ReversibleBlock(\n",
       "          (f): Deterministic(\n",
       "            (net): LayerScale(\n",
       "              (fn): PreNorm(\n",
       "                (norm): LayerNorm((768,), eps=1e-05, elementwise_affine=True)\n",
       "                (fn): Attention(\n",
       "                  (to_qkv): Linear(in_features=768, out_features=1536, bias=False)\n",
       "                  (to_out): Sequential(\n",
       "                    (0): Linear(in_features=512, out_features=768, bias=True)\n",
       "                    (1): Dropout(p=0.0, inplace=False)\n",
       "                  )\n",
       "                )\n",
       "              )\n",
       "            )\n",
       "          )\n",
       "          (g): Deterministic(\n",
       "            (net): LayerScale(\n",
       "              (fn): PreNorm(\n",
       "                (norm): LayerNorm((768,), eps=1e-05, elementwise_affine=True)\n",
       "                (fn): FeedForward(\n",
       "                  (net): Sequential(\n",
       "                    (0): Linear(in_features=768, out_features=6144, bias=True)\n",
       "                    (1): GEGLU()\n",
       "                    (2): Dropout(p=0.0, inplace=False)\n",
       "                    (3): Linear(in_features=3072, out_features=768, bias=True)\n",
       "                  )\n",
       "                )\n",
       "              )\n",
       "            )\n",
       "          )\n",
       "        )\n",
       "        (9): ReversibleBlock(\n",
       "          (f): Deterministic(\n",
       "            (net): LayerScale(\n",
       "              (fn): PreNorm(\n",
       "                (norm): LayerNorm((768,), eps=1e-05, elementwise_affine=True)\n",
       "                (fn): Attention(\n",
       "                  (to_qkv): Linear(in_features=768, out_features=1536, bias=False)\n",
       "                  (to_out): Sequential(\n",
       "                    (0): Linear(in_features=512, out_features=768, bias=True)\n",
       "                    (1): Dropout(p=0.0, inplace=False)\n",
       "                  )\n",
       "                )\n",
       "              )\n",
       "            )\n",
       "          )\n",
       "          (g): Deterministic(\n",
       "            (net): LayerScale(\n",
       "              (fn): PreNorm(\n",
       "                (norm): LayerNorm((768,), eps=1e-05, elementwise_affine=True)\n",
       "                (fn): FeedForward(\n",
       "                  (net): Sequential(\n",
       "                    (0): Linear(in_features=768, out_features=6144, bias=True)\n",
       "                    (1): GEGLU()\n",
       "                    (2): Dropout(p=0.0, inplace=False)\n",
       "                    (3): Linear(in_features=3072, out_features=768, bias=True)\n",
       "                  )\n",
       "                )\n",
       "              )\n",
       "            )\n",
       "          )\n",
       "        )\n",
       "        (10): ReversibleBlock(\n",
       "          (f): Deterministic(\n",
       "            (net): LayerScale(\n",
       "              (fn): PreNorm(\n",
       "                (norm): LayerNorm((768,), eps=1e-05, elementwise_affine=True)\n",
       "                (fn): Attention(\n",
       "                  (to_qkv): Linear(in_features=768, out_features=1536, bias=False)\n",
       "                  (to_out): Sequential(\n",
       "                    (0): Linear(in_features=512, out_features=768, bias=True)\n",
       "                    (1): Dropout(p=0.0, inplace=False)\n",
       "                  )\n",
       "                )\n",
       "              )\n",
       "            )\n",
       "          )\n",
       "          (g): Deterministic(\n",
       "            (net): LayerScale(\n",
       "              (fn): PreNorm(\n",
       "                (norm): LayerNorm((768,), eps=1e-05, elementwise_affine=True)\n",
       "                (fn): FeedForward(\n",
       "                  (net): Sequential(\n",
       "                    (0): Linear(in_features=768, out_features=6144, bias=True)\n",
       "                    (1): GEGLU()\n",
       "                    (2): Dropout(p=0.0, inplace=False)\n",
       "                    (3): Linear(in_features=3072, out_features=768, bias=True)\n",
       "                  )\n",
       "                )\n",
       "              )\n",
       "            )\n",
       "          )\n",
       "        )\n",
       "        (11): ReversibleBlock(\n",
       "          (f): Deterministic(\n",
       "            (net): LayerScale(\n",
       "              (fn): PreNorm(\n",
       "                (norm): LayerNorm((768,), eps=1e-05, elementwise_affine=True)\n",
       "                (fn): Attention(\n",
       "                  (to_qkv): Linear(in_features=768, out_features=1536, bias=False)\n",
       "                  (to_out): Sequential(\n",
       "                    (0): Linear(in_features=512, out_features=768, bias=True)\n",
       "                    (1): Dropout(p=0.0, inplace=False)\n",
       "                  )\n",
       "                )\n",
       "              )\n",
       "            )\n",
       "          )\n",
       "          (g): Deterministic(\n",
       "            (net): LayerScale(\n",
       "              (fn): PreNorm(\n",
       "                (norm): LayerNorm((768,), eps=1e-05, elementwise_affine=True)\n",
       "                (fn): FeedForward(\n",
       "                  (net): Sequential(\n",
       "                    (0): Linear(in_features=768, out_features=6144, bias=True)\n",
       "                    (1): GEGLU()\n",
       "                    (2): Dropout(p=0.0, inplace=False)\n",
       "                    (3): Linear(in_features=3072, out_features=768, bias=True)\n",
       "                  )\n",
       "                )\n",
       "              )\n",
       "            )\n",
       "          )\n",
       "        )\n",
       "      )\n",
       "    )\n",
       "    (norm): LayerNorm((768,), eps=1e-05, elementwise_affine=True)\n",
       "  )\n",
       ")"
      ]
     },
     "execution_count": 10,
     "metadata": {},
     "output_type": "execute_result"
    }
   ],
   "source": [
    "import sys\n",
    "sys.path.append('ANONYMOUS_ROOTDIR/develop/open-world/clasp')\n",
    "import torch\n",
    "from torch import einsum\n",
    "from torch.utils.data import Dataset, DataLoader\n",
    "import torch.nn.functional as F\n",
    "from clasp import CLASP, Transformer, tokenize, basic_rand_sampler, basic_aa_tokenizer, CLASPDataset\n",
    "from functools import partial\n",
    "from collections import OrderedDict\n",
    "import requests\n",
    "import matplotlib.pyplot as plt\n",
    "\n",
    "text_enc = Transformer(\n",
    "    num_tokens = 49408,\n",
    "    dim = 768,\n",
    "    depth = 12,\n",
    "    seq_len = 1024,\n",
    "    reversible=True\n",
    ")\n",
    "\n",
    "bioseq_enc = Transformer(\n",
    "    num_tokens = 23,\n",
    "    dim = 768,\n",
    "    depth = 12,\n",
    "    seq_len = 512,\n",
    "    sparse_attn = False,\n",
    "    reversible=True\n",
    ")\n",
    "\n",
    "model = CLASP(\n",
    "    text_encoder = text_enc,\n",
    "    bioseq_encoder = bioseq_enc\n",
    ")\n",
    "\n",
    "################################## PRETRAIN ##################################\n",
    "# path_weights = \"ANONYMOUS_ROOTDIR/develop/open-world/clasp/run54_2021-09-01_06_26_29_step00070000.pt\"\n",
    "# ckpt = torch.load(path_weights, map_location=\"cpu\")\n",
    "# model.load_state_dict(ckpt)\n",
    "################################## PRETRAIN ##################################\n",
    "\n",
    "model.eval()"
   ]
  },
  {
   "cell_type": "code",
   "execution_count": 11,
   "id": "8b5cdfe9",
   "metadata": {},
   "outputs": [
    {
     "name": "stderr",
     "output_type": "stream",
     "text": [
      "  0%|          | 0/99 [00:00<?, ?it/s]"
     ]
    },
    {
     "name": "stdout",
     "output_type": "stream",
     "text": [
      "M.; \"Genome- and Community-Level Interaction Insights into Carbon Utilization and Element Cycling Fu 100\n",
      "MVEALISDEAFIKGCAAIGAGLAVGLAGIGAGAGESGIGAAAVGAIAEDRGFLGLGLLFTVIPETIVIFGLVISFILMFA 80\n"
     ]
    },
    {
     "name": "stderr",
     "output_type": "stream",
     "text": [
      "  2%|▏         | 2/99 [00:00<00:26,  3.66it/s]"
     ]
    },
    {
     "name": "stdout",
     "output_type": "stream",
     "text": [
      "; 226 AA. Q51760; Q7LX17; SubName: Full=Glutaredoxin-like protein ; Pyrococcus furiosus. Archaea; Eu 100\n",
      "DTPEGKELAKRYRIDRAPATTITQDGKDFGVRYFGLPAGHEFAAFLEDIVDVSREETNLMDETKQAIRNIDQDVRILVFVTPTCPYCPLAVRMAHKFAIE 100\n",
      "ion and Element Cycling Functions of Hydrothermarchaeota in Hydrothermal Sediment.\";  . NON_TER 1 /e 100\n",
      "YERTITPFGNSAKLDAPKKYIGHRAYVIIVK 31\n"
     ]
    },
    {
     "name": "stderr",
     "output_type": "stream",
     "text": [
      "  3%|▎         | 3/99 [00:00<00:27,  3.52it/s]"
     ]
    },
    {
     "name": "stdout",
     "output_type": "stream",
     "text": [
      "iptional regulation in the hyperthermophilic archaeon Pyrococcus furiosus: coordinated expression of 100\n",
      "VVEFVKFAAFVAYHLDDLVDMWSTMNEPNVVYNQGYINLRSGFPPGYLSFEAAEKAKFNLIQAHIGAYDAIKEYSEKSVGVIYAFAWHDPLAEEYKDEVE 100\n"
     ]
    },
    {
     "name": "stderr",
     "output_type": "stream",
     "text": [
      "  6%|▌         | 6/99 [00:01<00:22,  4.12it/s]"
     ]
    },
    {
     "name": "stdout",
     "output_type": "stream",
     "text": [
      " J.Q.; Lopez-Cortes A.; \"Methane production in hypersaline environments: Microbial diversity; struct 100\n",
      "ESTIYGIENYEKYPTALEDHFGGSQRATVLSAAAGSAASLATGNANAGLSAWYLCMYLHKEALGRLGFFGFDLQDQCGATNVFSFQSDEGLPHELRGPNY 100\n",
      "agment; Name=ef2 ; Halorubrum halodurans. Archaea; Euryarchaeota; Stenosarchaea group; Halobacteria; 100\n",
      "PNPVDAQPRRVPRIWRGDPDSELAEGMQLVDEDGEVVFMVTDISMDPHAGEIATGRVFSGTLEKGQELYVSGTAGKNRIQSVGLFMGSEREEVEHVPAGN 100\n",
      "Unreviewed; 160 AA. A8UQB8; SubName: Full=Methyl-coenzyme M reductase alpha ; Flags: Fragment; Name= 100\n",
      "LYYNVDYINDKYDGAANKGVDNKVTASLDVVKDIATESTIYGIENYEKYPTTLEDHFGGSQRGTSLSAAAGSAVAIATGNGNAGLSGWYLCMYVHKEALG 100\n"
     ]
    },
    {
     "name": "stderr",
     "output_type": "stream",
     "text": [
      "  7%|▋         | 7/99 [00:03<00:58,  1.56it/s]"
     ]
    },
    {
     "name": "stdout",
     "output_type": "stream",
     "text": [
      "lpha\" /evidence=\"ECO:0000259|Pfam:PF02249\" NON_TER 1 /evidence=\"ECO:0000313|EMBL:ABW73347.1\" NON_TER 100\n",
      "ASMDVIKDITTESTIYGLENYEKYPTTLEDHFGGSQRATSLSAAAGAATSIATGNGNAGLSAWYLCMYLHKEAHGRLGFFGYDLQDQCGATNVFSFQSDE 100\n"
     ]
    },
    {
     "name": "stderr",
     "output_type": "stream",
     "text": [
      "  8%|▊         | 8/99 [00:03<00:47,  1.91it/s]"
     ]
    },
    {
     "name": "stdout",
     "output_type": "stream",
     "text": [
      "F02249\" NON_TER 1 /evidence=\"ECO:0000313|EMBL:ATU81530.1\" NON_TER 162 /evidence=\"ECO:0000313|EMBL:AT 100\n",
      "LDNNVYYNVDYINDKYNGAATIGKDNKVKATLDVVKDIATESTLYGIETYEKFPTALEDHFGGSQRATVLAAAAGVAVALGTANANAGLSGWYLSMYLHK 100\n"
     ]
    },
    {
     "name": "stderr",
     "output_type": "stream",
     "text": [
      "  9%|▉         | 9/99 [00:04<00:47,  1.90it/s]"
     ]
    },
    {
     "name": "stdout",
     "output_type": "stream",
     "text": [
      " ChEBI:CHEBI:58286; ChEBI:CHEBI:58411; ChEBI:CHEBI:58596; EC=2.8.4.1; Evidence= . DOMAIN 1..41 /note 100\n",
      "TEVTLYGLEQYEKYPTTLEDHFGGSQRATVVSIAAGGATALATGHSNAGLSAWYLSMYLHKEAHGRLGFYGYDLQDQCGATNVFSIGSDEGCIGECRGAN 100\n"
     ]
    },
    {
     "name": "stderr",
     "output_type": "stream",
     "text": [
      " 10%|█         | 10/99 [00:04<00:46,  1.92it/s]"
     ]
    },
    {
     "name": "stdout",
     "output_type": "stream",
     "text": [
      "0313|EMBL:AFZ76936.1\" NON_TER 162 /evidence=\"ECO:0000313|EMBL:AFZ76936.1\" 3: Inferred from homology; 100\n",
      "GVIQMGDILPARRARGPNEPGGIKFGHFADMIQADRKYPNDPARATLEVVGAGAMLFDQIWLGSYMSGGVGFTQYATAAYTDNILDDYTYYGMDYIKSKY 100\n"
     ]
    },
    {
     "name": "stderr",
     "output_type": "stream",
     "text": [
      " 11%|█         | 11/99 [00:05<00:53,  1.63it/s]"
     ]
    },
    {
     "name": "stdout",
     "output_type": "stream",
     "text": [
      "pear J.; Sahl J.; \"Salinity controls the isotopic composition of methane and the methanogen communit 100\n",
      "ILEDYTYWAADLVKDKFGGFAKMDPEINELMELVNKVNTYALSMYEEYPAAMEAHFGGSQRSTVCAAASAIAGAMATGSADVGVNCWYLSMVQHKERLGR 100\n"
     ]
    },
    {
     "name": "stderr",
     "output_type": "stream",
     "text": [
      " 13%|█▎        | 13/99 [00:07<00:55,  1.56it/s]"
     ]
    },
    {
     "name": "stdout",
     "output_type": "stream",
     "text": [
      "E ; uncultured Methanosarcina sp. Archaea; Euryarchaeota; Stenosarchaea group; Methanomicrobia; Meth 100\n",
      "MAEYTMASFLQEAGKKTPVFVRFSTVVGFRGSADTVRDARGFATKFYTEDGNYDLVGNNIPVFFIQDAIKFPDLVHSIKPEPDDEMPQASAAHDTFWDFV 100\n",
      "m:PF02249\" NON_TER 1 /evidence=\"ECO:0000313|EMBL:ABW73324.1\" NON_TER 160 /evidence=\"ECO:0000313|EMBL 100\n",
      "TDNKVNATMDVVKDIATESTIYGIENYEKYPTALEDHFGGSQRATVLSAAAGSAASLATGNANAGLSAWYLSMYLHKEALGRLGFFGFDLQDQCGATNVF 100\n"
     ]
    },
    {
     "name": "stderr",
     "output_type": "stream",
     "text": [
      " 14%|█▍        | 14/99 [00:07<00:55,  1.54it/s]"
     ]
    },
    {
     "name": "stdout",
     "output_type": "stream",
     "text": [
      " Unreviewed; 160 AA. A8USH6; SubName: Full=Methyl-coenzyme M reductase alpha ; Flags: Fragment; Name 100\n",
      "EYINDKYDGAADKGIDNKVAPSMDVIKDIATESTLYGLENYEKYPVALEDHFGGSQRATVLSAAAGSAGSLATGNANAGLSAWYLCTYLHKEGHGRLGFF 100\n"
     ]
    },
    {
     "name": "stderr",
     "output_type": "stream",
     "text": [
      " 16%|█▌        | 16/99 [00:08<00:35,  2.37it/s]"
     ]
    },
    {
     "name": "stdout",
     "output_type": "stream",
     "text": [
      "ame: Full=Methyl-coenzyme M reductase ; Flags: Fragment; Name=mcrA ; uncultured euryarchaeote. Archa 100\n",
      "DNLYYNVDYINDKYDGAANKGVDNKVTASLDVVKDIATESTIYGIENYEKYPTTLEDHFGGSQRGTSLSAAAGSAVAIATGNGNAGLSGWYLCMYVHKEA 100\n",
      "nvironmental samples. NUCLEOTIDE SEQUENCE. Lee S.-H.; Kim S.-Y.; Kang H.; \"Impact of elevated atmosp 100\n",
      "DDILDNNLYYNVDYINQKYSDAAKVGKDNKVKATLDVVKDIATESTIFGIETYEKYPTALEDHFGGSQRATVLAAAAGCAVSLATANANAGLSGWYLSMY 100\n"
     ]
    },
    {
     "name": "stderr",
     "output_type": "stream",
     "text": [
      " 17%|█▋        | 17/99 [00:09<01:04,  1.26it/s]"
     ]
    },
    {
     "name": "stdout",
     "output_type": "stream",
     "text": [
      "zonia.\"; DOMAIN 1..117 /note=\"MCR_alpha\" /evidence=\"ECO:0000259|Pfam:PF02249\" NON_TER 1 /evidence=\"E 100\n",
      "YATAAYTDNILDDYTYYGMDYVKSKYGGAGKVPAKQDAVNDIATEVTLYGMEQYEQYPTALESHFGGSQRASVLAAAAGLSTSIGTGNSNAGLNAWYLSM 100\n"
     ]
    },
    {
     "name": "stderr",
     "output_type": "stream",
     "text": [
      " 18%|█▊        | 18/99 [00:10<01:13,  1.10it/s]"
     ]
    },
    {
     "name": "stdout",
     "output_type": "stream",
     "text": [
      "_TER 1 /evidence=\"ECO:0000313|EMBL:AAR24556.1\" NON_TER 163 /evidence=\"ECO:0000313|EMBL:AAR24556.1\" 4 100\n",
      "IKDKYKVDWKNPNEKDKIKATQDNINDIATEVCLYGMEQYEQFPTMMEDHFGGSQRAGVLAAACGLSTSIATGNSNAGLNGWYLCMLLHKEGWSRLGFYG 100\n"
     ]
    },
    {
     "name": "stderr",
     "output_type": "stream",
     "text": [
      " 19%|█▉        | 19/99 [00:12<01:20,  1.00s/it]"
     ]
    },
    {
     "name": "stdout",
     "output_type": "stream",
     "text": [
      "59|Pfam:PF02249\" NON_TER 1 /evidence=\"ECO:0000313|EMBL:ACF16842.1\" NON_TER 157 /evidence=\"ECO:000031 100\n",
      "KDRYGGFCGVKADDYAKQMALADEISSYALEMYERYPAVMETHFGGSQRATVTAASTGIATAFATGVADNGLNTWYQSMLQHKERTGRLGFYGFDLQDQC 100\n"
     ]
    },
    {
     "name": "stderr",
     "output_type": "stream",
     "text": [
      " 20%|██        | 20/99 [00:12<01:03,  1.24it/s]"
     ]
    },
    {
     "name": "stdout",
     "output_type": "stream",
     "text": [
      "e I subunit A ; Flags: Fragment; Name=mcrA ; uncultured Methanosarcina sp. Archaea; Euryarchaeota; S 100\n",
      "DDILDNNVYYDVDYINDKYNGAANVGKDNKIKATLDVVKDIATESTIYGIETYEKFPTALEDHFGGSQRATVLAAAAGVATALATSNANAGLSGWYLSMY 100\n"
     ]
    },
    {
     "name": "stderr",
     "output_type": "stream",
     "text": [
      " 21%|██        | 21/99 [00:13<01:07,  1.15it/s]"
     ]
    },
    {
     "name": "stdout",
     "output_type": "stream",
     "text": [
      "encing; and expression of the gene encoding extracellular alpha-amylase from Pyrococcus furiosus and 100\n",
      "RDWLNWWGGWAVGEYWDTNVDALLSWAYESGAKVFDFPLYYKMDEAFDNNNIPALVYALQNGQTVVSRDPFKAVTFVANHDTDIIWNKYPAYAFILTYEG 100\n"
     ]
    },
    {
     "name": "stderr",
     "output_type": "stream",
     "text": [
      " 22%|██▏       | 22/99 [00:15<01:25,  1.11s/it]"
     ]
    },
    {
     "name": "stdout",
     "output_type": "stream",
     "text": [
      "rm manipulation of sulfate and salinity in a hypersaline microbial mat.\"; DOMAIN 1..119 /note=\"MCR_a 100\n",
      "TQYATAPYCNNILDDNLYYNVDYINDKYDGAANKGVDNKVTASLDVVKDIATESTIYGIENYEKYPTTLEDHFGGSQRGTSLSAAAGSAVAIATGNGNAG 100\n"
     ]
    },
    {
     "name": "stderr",
     "output_type": "stream",
     "text": [
      " 23%|██▎       | 23/99 [00:15<01:12,  1.05it/s]"
     ]
    },
    {
     "name": "stdout",
     "output_type": "stream",
     "text": [
      "ufert-Bebout L.; Bebout B.M.; \"Shifts in methanogen community structure and function associated with 100\n",
      "KDIATESTIYGIENYEKYPTTLEDHFGGSQRGTSLSAAAGSAVAIATGNGNAGLSGWYLCMYVHKEALGRLGFFGYDLQGQCGATNVLSYQSDEGLALEL 100\n"
     ]
    },
    {
     "name": "stderr",
     "output_type": "stream",
     "text": [
      " 24%|██▍       | 24/99 [00:16<01:06,  1.13it/s]"
     ]
    },
    {
     "name": "stdout",
     "output_type": "stream",
     "text": [
      "crobiales archaeon. Archaea; Euryarchaeota; Stenosarchaea group; Methanomicrobia; Methanomicrobiales 100\n",
      "RARGPNEPGGLAFGLFSDIIQANRKYPNDPAKASLEVVGAGTMLYDQIWLGSYMSGGVGFTQYATAAYTDNILDEFTYYGMDYIKDKYKVDWKNPSPKDR 100\n"
     ]
    },
    {
     "name": "stderr",
     "output_type": "stream",
     "text": [
      " 25%|██▌       | 25/99 [00:19<01:59,  1.61s/it]"
     ]
    },
    {
     "name": "stdout",
     "output_type": "stream",
     "text": [
      "8UQH2_9EURY Unreviewed; 155 AA. A8UQH2; SubName: Full=Methyl-coenzyme M reductase alpha ; Flags: Fra 100\n",
      "VDYINDKYDGAANTGVDNKVEASMDVIKDITTESTIYGLENYEKYPTTLEDHFGGSQRATSLSAAAGAATSIATGNGNAGLSAWYLCMYLHKEAHGRLGF 100\n"
     ]
    },
    {
     "name": "stderr",
     "output_type": "stream",
     "text": [
      " 27%|██▋       | 27/99 [00:26<02:43,  2.27s/it]"
     ]
    },
    {
     "name": "stdout",
     "output_type": "stream",
     "text": [
      "the alpha Mcr of the methanogenic Archaea from the anoxic region of Tucurui Lake; in Eastern Brazili 100\n",
      "NILDDYTSYGVDYVKKKYGGIAKAKATQEIVNDIATEVTLYGMEQYEEFPTALESHFGGSQRATVLAAAAGVSAALATANSNAGLNGWYLSMLLHKDGWS 100\n",
      "EOTIDE SEQUENCE. Castro H.; Ogram A.; Reddy K.R.; \"Phylogenetic characterization of methanogenic ass 100\n",
      "PNTMDSVLDVASEVTFYALEQFEDYPALLETIFGGSQRASIVAAGAACSTGFATGNAQTALSGWYLSMYLHKEQHARLGFYGYDLQDQCGATNVFSVRGD 100\n"
     ]
    },
    {
     "name": "stderr",
     "output_type": "stream",
     "text": [
      " 29%|██▉       | 29/99 [00:27<01:28,  1.26s/it]"
     ]
    },
    {
     "name": "stdout",
     "output_type": "stream",
     "text": [
      "; Bebout B.M.; \"Shifts in methanogen community structure and function associated with long-term mani 100\n",
      "DDRVKASQEVVNDLATEVCLNANEQYEQYPTLMEDHFGGSQRAGVNAAACGLTCSIGTGNSNAGLNGWYLSMLVHKENWSRLGFFGYDLQDQCGSANSLS 100\n",
      "glades.\"; DOMAIN 1..105 /note=\"MCR_alpha\" /evidence=\"ECO:0000259|Pfam:PF02249\" NON_TER 1 /evidence=\" 100\n",
      "VLDDFTYYGQEYVEDKFGMTEAPNTMETVLDVGSEVTFYALEQFEDYPALLETIFGGSQRASIVAAAAGCATGFATGNAQTGLSAWYLSMYLHKEQHSRL 100\n",
      "vidence=\"ECO:0000313|EMBL:ABG48742.1\" NON_TER 144 /evidence=\"ECO:0000313|EMBL:ABG48742.1\" 4: Predict 100\n",
      "VTLYGMEQYEAYPTLLEDHFGGSQRASVLAAASGITAAIASGHSQVGLAAWYLSMLLHKEGWGRLGFFGYDLQDQCGPTNVFSYQSDEGNPVEMRGANYP 100\n"
     ]
    },
    {
     "name": "stderr",
     "output_type": "stream",
     "text": [
      " 31%|███▏      | 31/99 [00:27<00:54,  1.25it/s]"
     ]
    },
    {
     "name": "stdout",
     "output_type": "stream",
     "text": [
      "crA ; uncultured euryarchaeote. Archaea; Euryarchaeota; environmental samples. NUCLEOTIDE SEQUENCE.  100\n",
      "KQAAGEAATGDFAYAAKHAEVVHMGTALPQRRARGENEPGGIPFGYLADICQSSRVNPDDPAKVTLDVVASGAMLYDQIWLGSYMSGGVGFTQYATAAYT 100\n"
     ]
    },
    {
     "name": "stderr",
     "output_type": "stream",
     "text": [
      " 32%|███▏      | 32/99 [00:27<00:44,  1.49it/s]"
     ]
    },
    {
     "name": "stdout",
     "output_type": "stream",
     "text": [
      "; Name=mcrA ; uncultured euryarchaeote. Archaea; Euryarchaeota; environmental samples. NUCLEOTIDE SE 100\n",
      "ANPSPDDRVKASQEVVNDLATEVCLNANEQYEQYPTLMEDHFGGSQRAGVNAAACGLTCSIGTGNSNAGLNGWYLSMLVHKENWSRLGFFGYDLQDQCGS 100\n"
     ]
    },
    {
     "name": "stderr",
     "output_type": "stream",
     "text": [
      " 33%|███▎      | 33/99 [00:28<00:43,  1.51it/s]"
     ]
    },
    {
     "name": "stdout",
     "output_type": "stream",
     "text": [
      "ic composition of methane and the methanogen community structure in a hypersaline ecosystem.\"; DOMAI 100\n",
      "DYINDKYDGAANTGVDNKVEASMDVIKDITTESTIYGLENYEKYPTTLEDHFGGSQRATSLSAAAGAATSIATGNGNAGLSAWYLCMYLHKEAHGRLGFF 100\n"
     ]
    },
    {
     "name": "stderr",
     "output_type": "stream",
     "text": [
      " 34%|███▍      | 34/99 [00:28<00:39,  1.64it/s]"
     ]
    },
    {
     "name": "stdout",
     "output_type": "stream",
     "text": [
      "Y Unreviewed; 159 AA. A8UQH6; SubName: Full=Methyl-coenzyme M reductase alpha ; Flags: Fragment; Nam 100\n",
      "STIYGIENYEKYPTTLEDHFGGSQRGTSLSAAAGSAVAIATGNGNAGLSGWYLCMYVHKEALGRLGFFGYDLQDQCGATNVLSYQSDEGLALELRGPNYP 100\n",
      "idence=\"ECO:0000259|Pfam:PF02249\" NON_TER 1 /evidence=\"ECO:0000313|EMBL:AFI71026.1\" NON_TER 155 /evi 100\n",
      "LCQAEASSDVVRDIASEVTLYGLEQYEIPAALEDHFGGSQRAAVLAAGAGCSVAFATANSNAGVNGWYLSQLLHKEGHSRLGFYGYDLQDQCGSSNSLSV 100\n"
     ]
    },
    {
     "name": "stderr",
     "output_type": "stream",
     "text": [
      " 36%|███▋      | 36/99 [00:29<00:30,  2.08it/s]"
     ]
    },
    {
     "name": "stdout",
     "output_type": "stream",
     "text": [
      "I:58596; EC=2.8.4.1; Evidence= . DOMAIN 1..41 /note=\"MCR_alpha_N\" /evidence=\"ECO:0000259|Pfam:PF0274 100\n",
      "DIATEVTLYGMEQYEQFPSLLEDHFGGSQRASVLAAAAGLTCSMATANSNAGLNGWYLSMLLHKEGWSRLGFYGYDLQDQCGSANCMAIRSDEGLITELR 100\n"
     ]
    },
    {
     "name": "stderr",
     "output_type": "stream",
     "text": [
      " 38%|███▊      | 38/99 [00:29<00:25,  2.41it/s]"
     ]
    },
    {
     "name": "stdout",
     "output_type": "stream",
     "text": [
      "ylthiotransferase ; Flags: Fragment; Name=mcrA ; uncultured Methanosarcinales archaeon. Archaea; Eur 100\n",
      "HMCAGEAAVGELAFTAKHAGLVEMGDMIPARRARGPNEPGGLSFGHMADIVQTGRKTPDDPVNVNLQIASAATMLYDQIWLGGYMSGGVGFTMYATPAYT 100\n",
      "; Flags: Fragment; Name=mcrA ; uncultured Methanosarcina sp. Archaea; Euryarchaeota; Stenosarchaea g 100\n",
      "DNNTYYNVDYINDKYNGAANVGKDNKVKATLDVVKDIATESTIYGIETYEKFPTALEDHFGGSQRATVLAAAAGVATALATSNANAGLSGWYLSMYLHKE 100\n"
     ]
    },
    {
     "name": "stderr",
     "output_type": "stream",
     "text": [
      " 39%|███▉      | 39/99 [00:30<00:25,  2.34it/s]"
     ]
    },
    {
     "name": "stdout",
     "output_type": "stream",
     "text": [
      "EURY Unreviewed; 119 AA. A0A023W4M2; SubName: Full=Methyl-coenzyme M reductase I subunit A ; Flags:  100\n",
      "TDDILDNNTYYNVDYINDKYNGAANVGKDNKVKATLDVVKDIATESTIYGIETYEKFPTALEDHFGGSQRATVLAAAAGVSTALATSNANAGLSGWYLSM 100\n"
     ]
    },
    {
     "name": "stderr",
     "output_type": "stream",
     "text": [
      " 40%|████      | 40/99 [00:30<00:25,  2.29it/s]"
     ]
    },
    {
     "name": "stdout",
     "output_type": "stream",
     "text": [
      "IF0_9EURY Unreviewed; 158 AA. A2TIF0; SubName: Full=Methyl-coenzyme M reductase ; Flags: Fragment; N 100\n",
      "DRVKASQEVVNDLATEVCLNANEQYEQYPTLMEDHFGGSQRAGVNAAACGLTCSIGTGNSNAGLNGWYLSMLVHKENWSRLGFFGYDLQDQCGSANSLSV 100\n"
     ]
    },
    {
     "name": "stderr",
     "output_type": "stream",
     "text": [
      " 41%|████▏     | 41/99 [00:32<00:41,  1.39it/s]"
     ]
    },
    {
     "name": "stdout",
     "output_type": "stream",
     "text": [
      " 261 AA. A0A1L5YK45; RecName: Full=Coenzyme-B sulfoethylthiotransferase ; Flags: Fragment; Name=mcrA 100\n",
      "ASLEVVAAGTMLFDQIWLGSYMSGGVGFTQYATAAYTDNILDEYTYYGMDLIKSKYKVDWKNPNPKDKVKCTQEILNEIATEVALNAMENYEMFPTALED 100\n"
     ]
    },
    {
     "name": "stderr",
     "output_type": "stream",
     "text": [
      " 43%|████▎     | 43/99 [00:33<00:40,  1.38it/s]"
     ]
    },
    {
     "name": "stdout",
     "output_type": "stream",
     "text": [
      "; \"Methanogenenic communities from Huixian karst wetland; Guilin; China.\"; -!- CATALYTIC ACTIVITY: R 100\n",
      "NDILDDYLYWGYDYARKKYGKLGSAKATIETVKDIGTETTLYGLEAYEKYPTTLEDHFGGSQRATVLALAAGSATAAATGHSNAGLSAWYLSMYLHKEAW 100\n",
      "A0A1L5YK27_9EURY Unreviewed; 254 AA. A0A1L5YK27; RecName: Full=Coenzyme-B sulfoethylthiotransferase  100\n",
      "SFGHMCDIVQTSRKTPDDPCNVVLQLASAASMLYDQIWLGGYMSGGVGFTMYATPAYTNDILDDYVYWGADYCQKKYGKPGSAKATIETVKDIGTEVTLY 100\n"
     ]
    },
    {
     "name": "stderr",
     "output_type": "stream",
     "text": [
      " 44%|████▍     | 44/99 [00:34<00:37,  1.46it/s]"
     ]
    },
    {
     "name": "stdout",
     "output_type": "stream",
     "text": [
      "8411; ChEBI:CHEBI:58596; EC=2.8.4.1; Evidence= . DOMAIN 2..41 /note=\"MCR_alpha_N\" /evidence=\"ECO:000 100\n",
      "ATGEFAFMAKHASVIMMSNYMPVRRARAHNEPGGMPLGICDDCTRSPALFPNDPVRAELEAIAIAADVYDQLWFGTYMSGGVGFTQYASATYTDNILEDF 100\n"
     ]
    },
    {
     "name": "stderr",
     "output_type": "stream",
     "text": [
      " 45%|████▌     | 45/99 [00:34<00:30,  1.79it/s]"
     ]
    },
    {
     "name": "stdout",
     "output_type": "stream",
     "text": [
      "\"; -!- CATALYTIC ACTIVITY: Reaction=coenzyme B + methyl-coenzyme M = coenzyme M-coenzyme B heterodis 100\n",
      "MCAGEAAVADLAFAAKHAGVIQMADILPARRARGPNEPGGIKFGHFCDMVQSDRKYPNDPVRSSLEIVAAGTMLFDQIWLGSYMSGGVGFTQYATAAYTD 100\n"
     ]
    },
    {
     "name": "stderr",
     "output_type": "stream",
     "text": [
      " 46%|████▋     | 46/99 [00:35<00:26,  2.03it/s]"
     ]
    },
    {
     "name": "stdout",
     "output_type": "stream",
     "text": [
      "ronmental samples. NUCLEOTIDE SEQUENCE. NUCLEOTIDE SEQUENCE. Bebout B.; Chanton J.; Kelley C.; Tazaz 100\n",
      "YDGAADKGIDNKVAPSMDVIKDIATESTLYGLENYEKYPVALEDHFGGSQRATVLSAAAGSAGSLATGNANAGLSAWYLCMYLHKEGHGRLGFFGFDLQD 100\n"
     ]
    },
    {
     "name": "stderr",
     "output_type": "stream",
     "text": [
      " 47%|████▋     | 47/99 [00:36<00:37,  1.38it/s]"
     ]
    },
    {
     "name": "stdout",
     "output_type": "stream",
     "text": [
      "N 2..113 /note=\"MCR_alpha\" /evidence=\"ECO:0000259|Pfam:PF02249\" NON_TER 1 /evidence=\"ECO:0000313|EMB 100\n",
      "TVDDNLYADTEYGWDTYGTSIGNVKAPTLDIIKDIGTWGALYGLELYENYPTALEDHFGGSQRATVISTATRAACAITTGNSNAGLSAWYLSMYLHKEAH 100\n"
     ]
    },
    {
     "name": "stderr",
     "output_type": "stream",
     "text": [
      " 48%|████▊     | 48/99 [00:39<01:16,  1.49s/it]"
     ]
    },
    {
     "name": "stdout",
     "output_type": "stream",
     "text": [
      "|Pfam:PF02745\" DOMAIN 71..163 /note=\"MCR_alpha\" /evidence=\"ECO:0000259|Pfam:PF02249\" NON_TER 1 /evid 100\n",
      "AFAAKHAGVIQMGDILPARRARGPNEPGGIKFGHFADMIQADRKYPNDPARATLEVVGAGAMLFDQIWLGSYMSGGVGFTQYATAAYTDNILDDYTYYGM 100\n"
     ]
    },
    {
     "name": "stderr",
     "output_type": "stream",
     "text": [
      " 49%|████▉     | 49/99 [00:40<01:07,  1.35s/it]"
     ]
    },
    {
     "name": "stdout",
     "output_type": "stream",
     "text": [
      "ogenesis in hypersaline environments - Analogs for ancient Mars?\"; DOMAIN 1..123 /note=\"MCR_alpha\" / 100\n",
      "NDKYDGAADKGIDNKVAPSMDVIKDIATESTLYGLENYEKYPVALEDHFGGSQRATVLSAAAGSAGSLATGNANAGLSAWYLCMYLHKEGHGRLGFFGFD 100\n"
     ]
    },
    {
     "name": "stderr",
     "output_type": "stream",
     "text": [
      " 51%|█████     | 50/99 [00:43<01:21,  1.66s/it]"
     ]
    },
    {
     "name": "stdout",
     "output_type": "stream",
     "text": [
      "lora change the community composition of methanogens in Chongming wetland.\"; DOMAIN 1..117 /note=\"MC 100\n",
      "IAKAKSTQEVVSDIATEVNLYGMEQYETYPTALESHFGGSQRASVLAAASGISCAMATANSNAGLNGWYLSMLMHKEGWSRLGFFGYDLQDQCGSANSMS 100\n"
     ]
    },
    {
     "name": "stderr",
     "output_type": "stream",
     "text": [
      " 52%|█████▏    | 51/99 [00:49<02:31,  3.16s/it]"
     ]
    },
    {
     "name": "stdout",
     "output_type": "stream",
     "text": [
      ".A.; Prufert-Bebout L.; Bebout B.M.; \"Shifts in methanogen community structure and function associat 100\n",
      "VKASQEVVNDLATEVCINANEQYEQFPTLMEDHFGGSQRAGVNAAACGLTCSIGTGNSNAGLNGWYLSMLMHKENWSRLGFFGYDLQDQCGSTNSLSVRP 100\n"
     ]
    },
    {
     "name": "stderr",
     "output_type": "stream",
     "text": [
      " 54%|█████▎    | 53/99 [00:52<01:38,  2.15s/it]"
     ]
    },
    {
     "name": "stdout",
     "output_type": "stream",
     "text": [
      "p; Methanomicrobia; Methanomicrobiales; environmental samples. NUCLEOTIDE SEQUENCE. Prasanna Kumar C 100\n",
      "VADLAFAAKHAGVIQMGDILPARRARGPNEPGGIKFGHFADMIQADRKYPNDPARATLEVVGAGAMLFDQIWLGSYMSGGVGFTQYATAAYTDNILDDYT 100\n",
      "oup; Methanomicrobia; Methanomicrobiales; environmental samples. NUCLEOTIDE SEQUENCE. Chen Y.; \"Meth 100\n",
      "PVRANLEVVAAGAMLFDQIWLGSYMSGGVGFTQYATAAYTDNILDDYCEYGLDYIKKKHGGIAKAKPTQEVVSDIATEVNLYGMEQYETYPTALESHFGG 100\n"
     ]
    },
    {
     "name": "stderr",
     "output_type": "stream",
     "text": [
      " 56%|█████▌    | 55/99 [00:52<00:48,  1.11s/it]"
     ]
    },
    {
     "name": "stdout",
     "output_type": "stream",
     "text": [
      ":RHEA:12532; ChEBI:CHEBI:16183; ChEBI:CHEBI:58286; ChEBI:CHEBI:58411; ChEBI:CHEBI:58596; EC=2.8.4.1; 100\n",
      "DYTYYGMDLIKDKYKVDWRNPNAKDRLKPTQDLVNELATEVTLNAMEQYEQFPTLMEDHFGGSQRAGVIAAASGLTCGIATANSNAGLNGWYMSMLAHKE 100\n",
      ":PF02249\" NON_TER 1 /evidence=\"ECO:0000313|EMBL:AHX83334.1\" NON_TER 118 /evidence=\"ECO:0000313|EMBL: 100\n",
      "DNNTYYNVDYINDKYNGAAKVGKDNKIKATLEVVKDIATESTIYGIETYEKFPTALEDHFGGSQRATVLAAAAGVATALATGNANAGLSGWYLSMYLHKE 100\n"
     ]
    },
    {
     "name": "stderr",
     "output_type": "stream",
     "text": [
      " 57%|█████▋    | 56/99 [00:52<00:34,  1.24it/s]"
     ]
    },
    {
     "name": "stdout",
     "output_type": "stream",
     "text": [
      "hEBI:CHEBI:16183; ChEBI:CHEBI:58286; ChEBI:CHEBI:58411; ChEBI:CHEBI:58596; EC=2.8.4.1; Evidence= . D 100\n",
      "LKFGLFSDIVQTDRKYPNDPVKSSLEVVAAGTMLFDQIWLGSYMSGGVGFTQYATAAYTDNVLDDYCYYGQDYVKDKYKGWTKAPATQAAVNDIATEVTL 100\n",
      "59|Pfam:PF02745\" DOMAIN 89..214 /note=\"MCR_alpha\" /evidence=\"ECO:0000259|Pfam:PF02249\" NON_TER 1 /ev 100\n",
      "FAAKHAALVEMADILPARRARGPNEPGGLPFGYLADIVQTNRKYPDDPVKSSLEVVASGCMLYDQIWLGSYMSGGVGFTQYATAAYTDDILDDFTYYGYD 100\n"
     ]
    },
    {
     "name": "stderr",
     "output_type": "stream",
     "text": [
      " 59%|█████▊    | 58/99 [00:53<00:20,  1.97it/s]"
     ]
    },
    {
     "name": "stdout",
     "output_type": "stream",
     "text": [
      "122 /note=\"MCR_alpha\" /evidence=\"ECO:0000259|Pfam:PF02249\" NON_TER 1 /evidence=\"ECO:0000313|EMBL:ADW 100\n",
      "YTNNILDDNLYYDVEYINDKYDGAADKGIDNKVAPSMDVIKDIATESTLYGLENYEKYPVALEDHFGGSQRATVLSAAAGSAGSLATGNANAGLSAWYLC 100\n"
     ]
    },
    {
     "name": "stderr",
     "output_type": "stream",
     "text": [
      " 60%|█████▉    | 59/99 [00:53<00:22,  1.80it/s]"
     ]
    },
    {
     "name": "stdout",
     "output_type": "stream",
     "text": [
      "!- CATALYTIC ACTIVITY: Reaction=coenzyme B + methyl-coenzyme M = coenzyme M-coenzyme B heterodisulfi 100\n",
      "NMCAGEAAVADLSFAAKHAALVSMGEMLPARRARGPNEPGGLSFGHLSDIVQTSRTVTDDPAKVALEVVGAGCMLYDQIWLGSYMSGGVGFTQYATAAYT 100\n"
     ]
    },
    {
     "name": "stderr",
     "output_type": "stream",
     "text": [
      " 61%|██████    | 60/99 [00:54<00:19,  2.04it/s]"
     ]
    },
    {
     "name": "stdout",
     "output_type": "stream",
     "text": [
      "J.; Sahl J.; \"Salinity controls the isotopic composition of methane and the methanogen community str 100\n",
      "AAYTNNILDDNLYYDVEYINDKYDGAADKGIDNKVAPSMDVIKDIATESTLYGLENYEKYPVALEDHFGGSQRATVLSAAAGSAGSLATGNANAGLSAWY 100\n"
     ]
    },
    {
     "name": "stderr",
     "output_type": "stream",
     "text": [
      " 63%|██████▎   | 62/99 [00:54<00:14,  2.56it/s]"
     ]
    },
    {
     "name": "stdout",
     "output_type": "stream",
     "text": [
      ".; Spear J.; Sahl J.; \"Salinity controls the isotopic composition of methane and the methanogen comm 100\n",
      "DGAANKGTDNKIEANLDVVKDIATESTIYGIENYEKYPTTLEDHFGGSQRATSLSAAAGSAVSIATGNGNAGLSGWYLSMYLHKEALGRLGFFGFDLQDQ 100\n",
      " \"The invasion of Spartina alterniflora change the community composition of methanogens in Chongming 100\n",
      "VKATLDVVKDIATESTLYGIETYEKFPTALEDHFGGSQRATVLAAAAGVATALATANANAGLSGWYLSMYLHKEAWGRLGFFGYDLQDQCGATNVLSYQG 100\n"
     ]
    },
    {
     "name": "stderr",
     "output_type": "stream",
     "text": [
      " 64%|██████▎   | 63/99 [00:54<00:11,  3.23it/s]"
     ]
    },
    {
     "name": "stdout",
     "output_type": "stream",
     "text": [
      "tsyurbenko O.R.; Conrad R.; Chansiri K.; \"Methanogenesis in Mae Wong Hot spring in Thailand.\"; -!- C 100\n",
      "VGFTQYATAAYTDNILDDYTAYGVDYVKKKYGGLAKTKPTQDVVNDIASEVTLYGMEQYEEFPTALESHFGGSQRATVLAAASGVTTALATANSNAGLNG 100\n",
      "CO:0000259|Pfam:PF02249\" NON_TER 1 /evidence=\"ECO:0000313|EMBL:ABW73429.1\" NON_TER 154 /evidence=\"EC 100\n",
      "AAYTDNILEDYTYWAADLVKDKFGGFAKMDPEINELMELVNKVNTYALSMYEEYPAAMEAHFGGSQRSTVCAAASAIAGAMATGSADVGVNCWYLSMVQH 100\n"
     ]
    },
    {
     "name": "stderr",
     "output_type": "stream",
     "text": [
      " 66%|██████▌   | 65/99 [00:55<00:09,  3.68it/s]"
     ]
    },
    {
     "name": "stdout",
     "output_type": "stream",
     "text": [
      "t A.D.; \"Community composition and density of methanogens in the foregut of the Tammar wallaby (Macr 100\n",
      "DEISSYALEMYERYPAVMETHFGGSQRATVTAASTGIATAFATGVADNGLNTWYQSMLQHKERTGRLGFYGFDLQDQCGSANSYSYRSDEGLPMELRGPN 100\n"
     ]
    },
    {
     "name": "stderr",
     "output_type": "stream",
     "text": [
      " 68%|██████▊   | 67/99 [00:56<00:08,  3.57it/s]"
     ]
    },
    {
     "name": "stdout",
     "output_type": "stream",
     "text": [
      "9|Pfam:PF02249\" NON_TER 1 /evidence=\"ECO:0000313|EMBL:APP91475.1\" NON_TER 254 /evidence=\"ECO:0000313 100\n",
      "VKDIGTEVTLYGLESYEKYPTALEDHFGGSQRATVLAIAAGTSTSLATGHSNAGLSAWYLSMYLHKEAHGRLGFYGYDLQDQCGATNVFSIASDEGCIGE 100\n",
      "Y: Reaction=coenzyme B + methyl-coenzyme M = coenzyme M-coenzyme B heterodisulfide + methane; Xref=R 100\n",
      "MSFIGAYKMCAGEAAVADLAFAAKHAGVIQMADILPARRARGPNEPGGIKFGHFCDMIQGDRKYPNDPVRANLEVVAAGAMLFDQIWLGSYMSGGVGFTQ 100\n"
     ]
    },
    {
     "name": "stderr",
     "output_type": "stream",
     "text": [
      " 70%|██████▉   | 69/99 [00:56<00:09,  3.00it/s]"
     ]
    },
    {
     "name": "stdout",
     "output_type": "stream",
     "text": [
      "the methanogen community structure in a hypersaline ecosystem.\"; DOMAIN 1..117 /note=\"MCR_alpha\" /ev 100\n",
      "QYATAAYTDNILEDYTYWAADLVKDKFGGFAKMDPEINELMELVNKVNTYALSMYEEYPAAMEAHFGGSQRSTVCAAASAIAGAMATGSADVGVNCWYLS 100\n",
      " AA. Q6L771; RecName: Full=Coenzyme-B sulfoethylthiotransferase ; Flags: Fragment; Name=mcrA ; uncul 100\n",
      "SMGEMLPARRARGPNEPGGLSFGHLSDIIQTSRTSQDPAKIALEVVGAGCMLYDQIWLGSYMSGGVGFTQYATAAYTDDILDNNVYYDVDYINDKYNGAA 100\n"
     ]
    },
    {
     "name": "stderr",
     "output_type": "stream",
     "text": [
      " 72%|███████▏  | 71/99 [00:57<00:09,  3.00it/s]"
     ]
    },
    {
     "name": "stdout",
     "output_type": "stream",
     "text": [
      "uctase alpha ; Flags: Fragment; Name=mcrA ; uncultured euryarchaeote. Archaea; Euryarchaeota; enviro 100\n",
      "ATAAYTNNILDDNLYYDVEYINDKYDGAADKGIDNKVAPSMDVIKDIATESTLYGLENYEKYPVALEDHFGGSQRATVLSAAAGSAGSLATGNANAGLSA 100\n",
      "al samples. NUCLEOTIDE SEQUENCE. Munk B.; Lebuhn M.; \"Process diagnosis using methanogenic Archaea i 100\n",
      "TDDILDNNTYYNVDYINDKYNGAANVGKDNKVKATLDVVKDIATESTIYGIETYEKFPTALEDHFGGSQRATVLAAAAGVATALATSNANAGLSGWYLSM 100\n",
      "na alterniflora change the community composition of methanogens in Chongming wetland.\"; DOMAIN 1..11 100\n",
      "VAGEVTLYSLEQYDEYPALLEDHFGGSQRAAVAAAASGIGVCMATGNSNAGVNGWYLSQVLHKEYHSRLGFYGYGLQDQCGASNSLAIRNDEAAPLELRG 100\n"
     ]
    },
    {
     "name": "stderr",
     "output_type": "stream",
     "text": [
      " 74%|███████▎  | 73/99 [00:58<00:08,  2.93it/s]"
     ]
    },
    {
     "name": "stdout",
     "output_type": "stream",
     "text": [
      "hanogens in Chongming wetland.\"; DOMAIN 1..124 /note=\"MCR_alpha\" /evidence=\"ECO:0000259|Pfam:PF02249 100\n",
      "NDIATEVTLNGMEQYEQFPTAMEDHFGGSQRAAVLAAASGISTAIATANSNAGLNGWYLSMLLHKEGWSRLGFFGYDLQDQCGSTNSLSVRPDEGCIGEF 100\n"
     ]
    },
    {
     "name": "stderr",
     "output_type": "stream",
     "text": [
      " 75%|███████▍  | 74/99 [01:00<00:17,  1.44it/s]"
     ]
    },
    {
     "name": "stdout",
     "output_type": "stream",
     "text": [
      "Flags: Fragment; uncultured euryarchaeote. Archaea; Euryarchaeota; environmental samples. NUCLEOTIDE 100\n",
      "DVDYINDKYNGAANLGTDNKVKATLDVVKDIATESTLYGIETYEKFPTALEDHFGGSQRATVLAAAAGVAVALGTANANAGLSGWYLSMYLHKEAWGRLG 100\n"
     ]
    },
    {
     "name": "stderr",
     "output_type": "stream",
     "text": [
      " 76%|███████▌  | 75/99 [01:01<00:18,  1.30it/s]"
     ]
    },
    {
     "name": "stdout",
     "output_type": "stream",
     "text": [
      "oenzyme M reductase ; Flags: Fragment; uncultured euryarchaeote. Archaea; Euryarchaeota; environment 100\n",
      "GIGKAKSTQEAVTDIATEVNLYGMEQYEQYPTALESHFGGSQRASVLAAASGISCSLATANSNAGLNGWYLSMLMHKEGWSRLGFFGYDLQDQCGSANSM 100\n"
     ]
    },
    {
     "name": "stderr",
     "output_type": "stream",
     "text": [
      " 77%|███████▋  | 76/99 [01:01<00:15,  1.53it/s]"
     ]
    },
    {
     "name": "stdout",
     "output_type": "stream",
     "text": [
      "; DOMAIN 1..123 /note=\"MCR_alpha\" /evidence=\"ECO:0000259|Pfam:PF02249\" NON_TER 1 /evidence=\"ECO:0000 100\n",
      "ATLDVVKDIATESTLYGIETYEKFPTALEDHFGGSQRATVLAAAAGVATALATANANAGLSGWYLSMYLHKEAWGRLGFFGYDLQDQCGATNVLSYQGDE 100\n"
     ]
    },
    {
     "name": "stderr",
     "output_type": "stream",
     "text": [
      " 78%|███████▊  | 77/99 [01:02<00:15,  1.38it/s]"
     ]
    },
    {
     "name": "stdout",
     "output_type": "stream",
     "text": [
      "n-rich substrates on biogas production and on the methanogenic community under mesophilic and thermo 100\n",
      "DNNTYYNVDYINDKYNGAAKVGKDNKIKATLEVVKDIATESTIYGIETYEKFPTALEDHFGGSQRATVLAAAAGVATALATGNANAGLSGWYLSMYLHKE 100\n"
     ]
    },
    {
     "name": "stderr",
     "output_type": "stream",
     "text": [
      " 79%|███████▉  | 78/99 [01:02<00:12,  1.73it/s]"
     ]
    },
    {
     "name": "stdout",
     "output_type": "stream",
     "text": [
      "wetland.\"; DOMAIN 1..124 /note=\"MCR_alpha\" /evidence=\"ECO:0000259|Pfam:PF02249\" NON_TER 1 /evidence= 100\n",
      "YGMDYLKDKYGFDYKNPDPKATIAPTQEVVNDLATEVNLNGMEQYEQYPTAMEDHFGGSQRAGVLAAACGLTCSIGTGNSNAGLNGWYLSMLMHKEGWSR 100\n"
     ]
    },
    {
     "name": "stderr",
     "output_type": "stream",
     "text": [
      " 80%|███████▉  | 79/99 [01:03<00:11,  1.77it/s]"
     ]
    },
    {
     "name": "stdout",
     "output_type": "stream",
     "text": [
      "A0A2D3I2J3; SubName: Full=Methyl coenzyme M reductase ; Flags: Fragment; uncultured euryarchaeote. A 100\n",
      "EVNLNAMEQYEQYPTMMEDHFGGSQRAGVMAAACGLSTSIATGNSNAGLNGWYLSMLMHKEGWSRLGFFGYDLQDQCGSANSLSMEPDRGLIGELRGPNY 100\n"
     ]
    },
    {
     "name": "stderr",
     "output_type": "stream",
     "text": [
      " 81%|████████  | 80/99 [01:03<00:10,  1.75it/s]"
     ]
    },
    {
     "name": "stdout",
     "output_type": "stream",
     "text": [
      "tion water from low temperature petroleum reservoir.\"; DOMAIN 1..113 /note=\"MCR_alpha\" /evidence=\"EC 100\n",
      "DNILDEFTYYGMDYIKDKYKVDWQNPNPNDKVKPTQEVVNDIATEVNLNGMEQYETYPTMLEDHFGGSQRASVLAAASGISTSIATGNSNAGLNGWYLSM 100\n"
     ]
    },
    {
     "name": "stderr",
     "output_type": "stream",
     "text": [
      " 82%|████████▏ | 81/99 [01:04<00:12,  1.50it/s]"
     ]
    },
    {
     "name": "stdout",
     "output_type": "stream",
     "text": [
      ":0000259|Pfam:PF02249\" NON_TER 1 /evidence=\"ECO:0000313|EMBL:QAB43508.1\" NON_TER 145 /evidence=\"ECO: 100\n",
      "NPNAKDKVKPTQEVVNDIATEVNLNGMEQYEQYPTMMEDHFGGSQRAGVLAAACGLSTAIATGHSNAGLNGWYLSMLMHKEGWSRLGFFGYDLQDQCGSA 100\n"
     ]
    },
    {
     "name": "stderr",
     "output_type": "stream",
     "text": [
      " 83%|████████▎ | 82/99 [01:05<00:12,  1.31it/s]"
     ]
    },
    {
     "name": "stdout",
     "output_type": "stream",
     "text": [
      "ol culture in production water from low temperature petroleum reservoir-mcrA.\"; \"Methanogenic biodeg 100\n",
      "LAEAPNTMDTVLDVASEVTFYGLEQYEDYPSLLETQFGGSQRAAVAAAAAGCSTGFATGNSQTALSGWYLSMYLHKEQHARLGFYGYDLQDQCGAANVFA 100\n"
     ]
    },
    {
     "name": "stderr",
     "output_type": "stream",
     "text": [
      " 84%|████████▍ | 83/99 [01:06<00:10,  1.46it/s]"
     ]
    },
    {
     "name": "stdout",
     "output_type": "stream",
     "text": [
      "production water from low temperature petroleum reservoir.\"; DOMAIN 1..113 /note=\"MCR_alpha\" /eviden 100\n",
      "PNDKVKPTQEVVNDIATEVNLNGMEQYEQYPTMMEDHFGGSQRAGVLAAACGLSTSIATGHSNAGLNGWYLSMLMHKEGWSRLGFFGYDLQDQCGSANTL 100\n"
     ]
    },
    {
     "name": "stderr",
     "output_type": "stream",
     "text": [
      " 85%|████████▍ | 84/99 [01:07<00:11,  1.28it/s]"
     ]
    },
    {
     "name": "stdout",
     "output_type": "stream",
     "text": [
      "rom low temperature petroleum reservoir with iron oxide-mcrA.\"; DOMAIN 1..113 /note=\"MCR_alpha\" /evi 100\n",
      "KDRVKASQDVVNDIATEVALNGMEQYEQFPTLMEDHFGGSQRAGVLAAACGLSTSIATGNSNAGLNAWYLCMLLHKEGWSRLGFFGYDLQDQCGSTNSLS 100\n"
     ]
    },
    {
     "name": "stderr",
     "output_type": "stream",
     "text": [
      " 86%|████████▌ | 85/99 [01:08<00:14,  1.03s/it]"
     ]
    },
    {
     "name": "stdout",
     "output_type": "stream",
     "text": [
      "9\" NON_TER 1 /evidence=\"ECO:0000313|EMBL:QAB43520.1\" NON_TER 145 /evidence=\"ECO:0000313|EMBL:QAB4352 100\n",
      "SPSDKVKPTQEIVNDLATEVTLNAMEQYEQFPTMMEDHFGGSQRAGVIAAASGLTTSITTGNSNAGLNGWYLSMLLHKDGWSRLGFFGYDLQDQCGSANS 100\n"
     ]
    },
    {
     "name": "stderr",
     "output_type": "stream",
     "text": [
      " 87%|████████▋ | 86/99 [01:11<00:19,  1.51s/it]"
     ]
    },
    {
     "name": "stdout",
     "output_type": "stream",
     "text": [
      "nreviewed; 145 AA. A0A410HW79; SubName: Full=Methyl-coenzyme M reductase alpha subunit ; Flags: Frag 100\n",
      "IKDKYKVDWQNPNAKDKVKPTQEIVNDIATEVNLNGMEQYEQYPTMMEDHFGGSQRAGVLAAACGLSTSIATGHSNAGLNGWYLSMLMHKEGWSRLGFFG 100\n"
     ]
    },
    {
     "name": "stderr",
     "output_type": "stream",
     "text": [
      " 88%|████████▊ | 87/99 [01:13<00:19,  1.65s/it]"
     ]
    },
    {
     "name": "stdout",
     "output_type": "stream",
     "text": [
      " petroleum reservoir-mcrA.\"; \"Methanogenic biodegradation of C9-C12 in production water from low tem 100\n",
      "KPTQEIVNDIATEVNLNGMEQYEQYPTMMEDHFGGSQRAGVLAAACGLSTSIATGHSNAGLNGWYLSMLMHKEGWSRLGFFGYDLQDQCGSANTLSVRPD 100\n"
     ]
    },
    {
     "name": "stderr",
     "output_type": "stream",
     "text": [
      " 89%|████████▉ | 88/99 [01:18<00:30,  2.80s/it]"
     ]
    },
    {
     "name": "stdout",
     "output_type": "stream",
     "text": [
      "9|Pfam:PF02249\" NON_TER 1 /evidence=\"ECO:0000313|EMBL:QAB43437.1\" NON_TER 145 /evidence=\"ECO:0000313 100\n",
      "NPNAKDKVKPTQEIVNDIATEVNLNGMEQYEQYPTMMEDHFGGSQRAGVLAAACGLSTAIATGHSNAGLNGWYLSMLMHKEGWSRLGFFGYDLQDQCGSA 100\n"
     ]
    },
    {
     "name": "stderr",
     "output_type": "stream",
     "text": [
      " 92%|█████████▏| 91/99 [01:23<00:14,  1.78s/it]"
     ]
    },
    {
     "name": "stdout",
     "output_type": "stream",
     "text": [
      "occi; Thermococcales; Thermococcaceae; Pyrococcus. NUCLEOTIDE SEQUENCE. NUCLEOTIDE SEQUENCE. Diruggi 100\n",
      "WAAIDVESKEVLAVWITTVRNWWVARDFILVVLKSCEGQPVFLVDRASWYKSAFKSLRLGYLHVTFGPRNSVERWFRTLKERTKRFWNNFRGKDWRRVHR 100\n",
      "petroleum reservoir-mcrA.\"; \"Methanogenic biodegradation of C9-C12 in production water from low temp 100\n",
      "FSYYGVDYANDKFGGFAKAPATIDVAKELATEVTLYGIEQYEAFPTLLEDHFGGSQRAAVLAAASGITSAIATGHSQIGLAGWYLSMLLHKEAWGRLGFF 100\n",
      "nd function associated with long-term manipulation of sulfate and salinity in a hypersaline microbia 100\n",
      "GMDYLKDKYGFDYTNPSPEQILKPTQEVVNDLATEVTINALEQYEQFPTLMEDHFGGSQRAGVTAAASGLTCSISTGNSNAGLNGWYLSMIVHKDAWSRL 100\n"
     ]
    },
    {
     "name": "stderr",
     "output_type": "stream",
     "text": [
      " 94%|█████████▍| 93/99 [01:23<00:06,  1.04s/it]"
     ]
    },
    {
     "name": "stdout",
     "output_type": "stream",
     "text": [
      "93_01842 ; Euryarchaeota archaeon ADurb.BinA087. Archaea; Euryarchaeota. NUCLEOTIDE SEQUENCE [LARGE  100\n",
      "MQGSPEGRSSAFDSSVISSTSRYRSSQSRVLLSIIFSSLFFSAFRHRYWGCDKVTSMERKKKSSGTWRVWLSWMRTRELGTTSPVSYLEIAIALIPISFP 100\n",
      ".; Liu W.-T.; \"Delving into the versatile metabolic prowess of the omnipresent phylum Bacteroidetes. 100\n",
      "MAARVAGMQERNTMEQLVVTREAVEAYERRTGFVGIGEFFLRKGLFVLKEGETCRK 56\n"
     ]
    },
    {
     "name": "stderr",
     "output_type": "stream",
     "text": [
      " 95%|█████████▍| 94/99 [01:23<00:03,  1.28it/s]"
     ]
    },
    {
     "name": "stdout",
     "output_type": "stream",
     "text": [
      "A0A410HWW4; SubName: Full=Methyl-coenzyme M reductase alpha subunit ; Flags: Fragment; Name=mcrA ; m 100\n",
      "TYYGKEYVEDKYGLAEAPNTMDTVLDVASEVTFYGLEQYEDYPSLLETQFGGSQRAAVAAAAAGCSTGFATGNSQTALSGWYLSMYLHKEQHARLGFYGY 100\n"
     ]
    },
    {
     "name": "stderr",
     "output_type": "stream",
     "text": [
      " 96%|█████████▌| 95/99 [01:24<00:03,  1.27it/s]"
     ]
    },
    {
     "name": "stdout",
     "output_type": "stream",
     "text": [
      "onado J.Q.; Lopez-Cortes A.; \"Methane production in hypersaline environments: Microbial diversity; s 100\n",
      "ASMDVIKDITTESTIYGLENYEKYPTTLEDHFGGSQRATSLSAAAGSAASIATGNGNAGLSSWYLCMYLHKEAHGRLGFFGYDLQDQCGATNVFSFQSDE 100\n"
     ]
    },
    {
     "name": "stderr",
     "output_type": "stream",
     "text": [
      " 97%|█████████▋| 96/99 [01:24<00:01,  1.55it/s]"
     ]
    },
    {
     "name": "stdout",
     "output_type": "stream",
     "text": [
      "and sinks in Lake Kivu.\"; -!- CATALYTIC ACTIVITY: Reaction=coenzyme B + methyl-coenzyme M = coenzyme 100\n",
      "YGVDYVKKKYGDLSKVKATQETVNDIASEVTLYGMEQYEEFPTALESHFGGSQRATVLAAASGVTTSLATANSNAGLNAWYMSMLLHKEGWSRLGFYGFD 100\n"
     ]
    },
    {
     "name": "stderr",
     "output_type": "stream",
     "text": [
      "100%|██████████| 99/99 [01:25<00:00,  1.16it/s]"
     ]
    },
    {
     "name": "stdout",
     "output_type": "stream",
     "text": [
      "te and salinity in a hypersaline microbial mat.\"; DOMAIN 1..119 /note=\"MCR_alpha\" /evidence=\"ECO:000 100\n",
      "NVDYINDKYDGAANKGVDYKVTASLDVVKDIATESTIYGIENYEKYPTTLEDHFGGSQRGTSLSAAAGSAVAIATGNGNAGLSGWYLCMYVHKEALGRLG 100\n",
      "=Methyl coenzyme M reductase ; Flags: Fragment; uncultured euryarchaeote. Archaea; Euryarchaeota; en 100\n",
      "TQEIVNDLTTEVNLNAMEQYEQYPTLMEDHFGGSQRAGVMAAACGLTCSIGTGNSNAGLNGWYLSMLMHKEGWSRLGFFGYDLQDQCGSANSLSMEPDRG 100\n"
     ]
    },
    {
     "name": "stderr",
     "output_type": "stream",
     "text": [
      "\n"
     ]
    }
   ],
   "source": [
    "text_features, bioseq_features = [], []\n",
    "with torch.no_grad():\n",
    "    for text, text_mask, bioseq, bioseq_mask in tqdm(ds):\n",
    "        bioseq = bioseq.unsqueeze(0)\n",
    "        bioseq_mask = bioseq_mask.unsqueeze(0)\n",
    "\n",
    "        text_out = model.text_encoder(text, mask=text_mask)\n",
    "        bioseq_out = model.bioseq_encoder(bioseq, mask=bioseq_mask)\n",
    "        text_out_norm = F.normalize(text_out, p=2, dim =-1)\n",
    "        bioseq_out_norm = F.normalize(bioseq_out, p=2, dim =-1)\n",
    "\n",
    "        text_features.append(text_out_norm)\n",
    "        bioseq_features.append(bioseq_out_norm)"
   ]
  },
  {
   "cell_type": "code",
   "execution_count": 12,
   "id": "900000e4",
   "metadata": {},
   "outputs": [
    {
     "data": {
      "image/png": "[encoded data removed]",
      "text/plain": [
       "<Figure size 360x360 with 1 Axes>"
      ]
     },
     "metadata": {
      "needs_background": "light"
     },
     "output_type": "display_data"
    }
   ],
   "source": [
    "# Use PCA to reduce dimensionality\n",
    "all_img_features = torch.cat(bioseq_features, dim=0)\n",
    "all_text_features = torch.cat(text_features, dim=0)\n",
    "\n",
    "np.save('features_clasp_random.npy', [all_img_features.numpy(), all_text_features.numpy()])\n",
    "\n",
    "def svd(X, n_components=2):\n",
    "    # using SVD to compute eigenvectors and eigenvalues\n",
    "    # M = np.mean(X, axis=0)\n",
    "    # X = X - M\n",
    "    U, S, Vt = np.linalg.svd(X)\n",
    "    # print(S)\n",
    "    return U[:, :n_components] * S[:n_components]\n",
    "\n",
    "features_2d = svd(torch.cat([all_img_features, all_text_features], 0).detach().numpy())\n",
    "plt.figure(figsize=(5, 5))\n",
    "plt.scatter(features_2d[:-len(all_img_features), 0], features_2d[:-len(all_img_features), 1], c='red')\n",
    "plt.scatter(features_2d[-len(all_img_features):, 0], features_2d[-len(all_img_features):, 1], c='blue')\n",
    "# connect the dots\n",
    "for i in range(len(all_img_features)):\n",
    "    plt.plot([features_2d[i, 0], features_2d[len(all_img_features)+i, 0]], [features_2d[i, 1], features_2d[len(all_img_features)+i, 1]], c='black', alpha=0.1)"
   ]
  },
  {
   "cell_type": "code",
   "execution_count": 17,
   "id": "29228b18",
   "metadata": {},
   "outputs": [
    {
     "data": {
      "text/plain": [
       "torch.Size([99, 768])"
      ]
     },
     "execution_count": 17,
     "metadata": {},
     "output_type": "execute_result"
    }
   ],
   "source": [
    "all_text_features.shape"
   ]
  },
  {
   "cell_type": "code",
   "execution_count": null,
   "id": "14f0b39e",
   "metadata": {},
   "outputs": [],
   "source": []
  }
 ],
 "metadata": {
  "kernelspec": {
   "display_name": "Python 3 (ipykernel)",
   "language": "python",
   "name": "python3"
  },
  "language_info": {
   "codemirror_mode": {
    "name": "ipython",
    "version": 3
   },
   "file_extension": ".py",
   "mimetype": "text/x-python",
   "name": "python",
   "nbconvert_exporter": "python",
   "pygments_lexer": "ipython3",
   "version": "3.8.12"
  },
  "toc": {
   "base_numbering": 1,
   "nav_menu": {},
   "number_sections": true,
   "sideBar": true,
   "skip_h1_title": false,
   "title_cell": "Table of Contents",
   "title_sidebar": "Contents",
   "toc_cell": false,
   "toc_position": {
    "height": "calc(100% - 180px)",
    "left": "10px",
    "top": "150px",
    "width": "223px"
   },
   "toc_section_display": true,
   "toc_window_display": true
  }
 },
 "nbformat": 4,
 "nbformat_minor": 5
}
