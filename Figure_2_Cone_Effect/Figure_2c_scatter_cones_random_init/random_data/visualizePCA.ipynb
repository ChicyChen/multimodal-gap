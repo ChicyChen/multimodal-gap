{
 "cells": [
  {
   "cell_type": "markdown",
   "metadata": {},
   "source": [
    "# Visualize COCO features\n",
    "\n",
    "1. visualize coco features\n",
    "2. identify pca-one; what is its cosine similarity with the residual (should be very high)\n",
    "3. move along the direction, plot 1-dim loss landscape. [-2,-1,-0.5,0,0.5,1,2]\n",
    "    - need to have a fn(scalar,), output loss. \n"
   ]
  },
  {
   "cell_type": "code",
   "execution_count": null,
   "metadata": {},
   "outputs": [],
   "source": [
    "import argparse\n",
    "import os\n",
    "import random\n",
    "import shutil\n",
    "import time\n",
    "import warnings\n",
    "from enum import Enum\n",
    "import pickle\n",
    "import numpy as np\n",
    "from collections import defaultdict\n",
    "\n",
    "import torch\n",
    "import torch.nn as nn\n",
    "import torch.optim\n",
    "from torch.utils.data import Dataset, DataLoader\n",
    "import torch.backends.cudnn as cudnn\n",
    "\n",
    "import glob \n",
    "def my_norm(x):\n",
    "    return x/np.linalg.norm(x, axis=-1, keepdims=True)"
   ]
  },
  {
   "cell_type": "code",
   "execution_count": null,
   "metadata": {},
   "outputs": [],
   "source": [
    "data_dict_list = list()\n",
    "\n",
    "for pickle_path in glob.glob('./features*/feature_dump_*.pkl'):\n",
    "    with open(pickle_path, 'rb') as pkl_file:\n",
    "        data_dict = pickle.load(pkl_file)\n",
    "        assert len(data_dict['clip_image_features_list']) == len(data_dict['clip_text_features_list'])\n",
    "        # assert len(data_dict['clip_image_features_list']) == len(data_dict['target_image_features_list'])\n",
    "        # print('Number of image-text pairs', len(data_dict['clip_image_features_list']))\n",
    "        data_dict_list.append(data_dict)\n",
    "\n",
    "print('Number of experiment files loaded', len(data_dict_list))"
   ]
  },
  {
   "cell_type": "code",
   "execution_count": null,
   "metadata": {},
   "outputs": [],
   "source": [
    "# visualize.\n",
    "\n",
    "from sklearn.decomposition import PCA\n",
    "# from sklearn.decomposition import TruncatedSVD as PCA # showns as multiple lines. \n",
    "# from sklearn.manifold import TSNE as PCA # \n",
    "# import umap\n",
    "# from umap import UMAP as PCA\n",
    "import pandas as pd\n",
    "import matplotlib.pyplot as plt\n",
    "%matplotlib inline\n",
    "import seaborn as sns\n",
    "# sns.set(font_scale=2)  # crazy big\n",
    "plt.rcParams['figure.dpi'] = 300\n",
    "plt.rcParams['savefig.dpi'] = 300\n",
    "sns.set_theme()\n"
   ]
  },
  {
   "cell_type": "code",
   "execution_count": null,
   "metadata": {},
   "outputs": [],
   "source": [
    "# Functionality: given a list of exp, plot one modality. \n",
    "sns.set_context(\"talk\", font_scale=1.5) # paper, notebook, talk, and poster; font_scale=1.5,\n",
    "\n",
    "def plot_scattered_cones(data_dict_list, modality_str, draw=True):\n",
    "    assert modality_str in ['clip_image_features_list', 'clip_text_features_list', 'target_image_features_list']\n",
    "    print('modality_str: ', modality_str)\n",
    "    # dataset_size = len(data_dict_list[0][modality_str])\n",
    "    dataset_size = 5000\n",
    "\n",
    "    total_feature_list = list()\n",
    "    label_list = list()\n",
    "    for expriment_idx in range(len(data_dict_list)):\n",
    "        total_feature_list.append(data_dict_list[expriment_idx][modality_str][:dataset_size])\n",
    "        label_list.extend(['Random-{}'.format(expriment_idx+1)] * dataset_size)\n",
    "    total_feature_np = np.concatenate(total_feature_list, axis=0) \n",
    "    total_feature_np = my_norm(total_feature_np) # L2-normalize\n",
    "    assert len(total_feature_np) == len(data_dict_list) * dataset_size\n",
    "\n",
    "    pca = PCA(n_components=2)\n",
    "    pca_result = pca.fit_transform(total_feature_np)\n",
    "\n",
    "    df = pd.DataFrame()\n",
    "    df['pca_one'] = pca_result[:,0]\n",
    "    df['pca_two'] = pca_result[:,1] \n",
    "    df['Random Seed'] = label_list\n",
    "\n",
    "    if draw:\n",
    "        plt.figure(figsize=(20.0,6.18 * 2))\n",
    "        p1 = sns.scatterplot(\n",
    "            x=\"pca_one\", y=\"pca_two\",\n",
    "            hue=\"Random Seed\",\n",
    "            data=df,\n",
    "            legend=True,\n",
    "        )\n",
    "        plt.xlabel(\"\")\n",
    "        plt.ylabel(\"\")\n",
    "        plt.legend(title='Random Seed', loc='upper left', bbox_to_anchor=(1.00, 1.0, ), prop={'size': 18})\n",
    "        plt.show()\n",
    "\n",
    "    return df\n"
   ]
  },
  {
   "cell_type": "code",
   "execution_count": null,
   "metadata": {},
   "outputs": [],
   "source": [
    "df_clip_img = plot_scattered_cones(data_dict_list[:25], 'clip_image_features_list',   draw=True)\n",
    "df_clip_txt = plot_scattered_cones(data_dict_list[:25], 'clip_text_features_list',    draw=True)\n",
    "df_resnet   = plot_scattered_cones(data_dict_list[:25], 'target_image_features_list', draw=True)\n"
   ]
  },
  {
   "cell_type": "code",
   "execution_count": null,
   "metadata": {},
   "outputs": [],
   "source": [
    "def draw_df(df):\n",
    "    plt.figure(figsize=(20.0,6.18 * 2))\n",
    "    df['Seed'] = df['Random Seed'].str.replace('Random-', '', regex=False)\n",
    "    p1 = sns.scatterplot(\n",
    "        x=\"pca_one\", y=\"pca_two\",\n",
    "        hue=\"Seed\",\n",
    "        data=df,\n",
    "        legend=True,\n",
    "    )\n",
    "    plt.xlabel(\"\")\n",
    "    plt.ylabel(\"\")\n",
    "    plt.legend(title='Random Seed', loc='upper left', bbox_to_anchor=(1.00, 1.0, ), ncol=2) # prop={'size': 50}, \n",
    "    plt.show()\n",
    "    return\n",
    "\n",
    "draw_df(df_clip_img)"
   ]
  },
  {
   "cell_type": "code",
   "execution_count": null,
   "metadata": {},
   "outputs": [],
   "source": []
  }
 ],
 "metadata": {
  "interpreter": {
   "hash": "09c077faaa20da841f22e0f4d12b4addb73e00d9291bc78d00732f9f39794f23"
  },
  "kernelspec": {
   "display_name": "Python 3.9.7 ('clip')",
   "language": "python",
   "name": "python3"
  },
  "language_info": {
   "codemirror_mode": {
    "name": "ipython",
    "version": 3
   },
   "file_extension": ".py",
   "mimetype": "text/x-python",
   "name": "python",
   "nbconvert_exporter": "python",
   "pygments_lexer": "ipython3",
   "version": "3.9.7"
  },
  "orig_nbformat": 4
 },
 "nbformat": 4,
 "nbformat_minor": 2
}
