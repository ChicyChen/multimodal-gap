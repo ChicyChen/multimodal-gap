{
  "cells": [
    {
      "cell_type": "markdown",
      "metadata": {
        "id": "YPHN7PJgKOzb"
      },
      "source": [
        "# Image Feature Pair Extract - CLIP, ResNet18. \n",
        "conda activate clip\n",
        "\n",
        "\n",
        "clip_image_features_list (118287, 512)\n",
        "target_image_features_list (118287, 512)\n",
        "clip_image_features_list (5000, 512)\n",
        "target_image_features_list (5000, 512)\n",
        "\n",
        "Feature extraction complete in 6m 16s"
      ]
    },
    {
      "cell_type": "code",
      "execution_count": 21,
      "metadata": {
        "colab": {
          "base_uri": "https://localhost:8080/"
        },
        "id": "C1hkDT38hSaP",
        "outputId": "70a44964-883d-4fd0-b95a-2c7f2b19aca9"
      },
      "outputs": [
        {
          "name": "stdout",
          "output_type": "stream",
          "text": [
            "Torch version: 1.7.1\n"
          ]
        }
      ],
      "source": [
        "import numpy as np\n",
        "import torch\n",
        "import pickle\n",
        "import time\n",
        "print(\"Torch version:\", torch.__version__)\n",
        "\n",
        "assert torch.__version__.split(\".\") >= [\"1\", \"7\", \"1\"], \"PyTorch 1.7.1 or later is required\"\n",
        "\n",
        "import os\n",
        "import matplotlib.pyplot as plt\n",
        "from collections import OrderedDict\n",
        "import torch\n",
        "\n",
        "%matplotlib inline\n",
        "%config InlineBackend.figure_format = 'retina'"
      ]
    },
    {
      "cell_type": "markdown",
      "metadata": {},
      "source": [
        "# Load CLIP"
      ]
    },
    {
      "cell_type": "code",
      "execution_count": 22,
      "metadata": {
        "colab": {
          "base_uri": "https://localhost:8080/"
        },
        "id": "uLFS29hnhlY4",
        "outputId": "11779e1e-8bdd-4167-c18e-d26bdd6b67db"
      },
      "outputs": [
        {
          "data": {
            "text/plain": [
              "['RN50', 'RN101', 'RN50x4', 'RN50x16', 'ViT-B/32', 'ViT-B/16']"
            ]
          },
          "execution_count": 22,
          "metadata": {},
          "output_type": "execute_result"
        }
      ],
      "source": [
        "import clip\n",
        "\n",
        "clip.available_models()"
      ]
    },
    {
      "cell_type": "code",
      "execution_count": 23,
      "metadata": {},
      "outputs": [],
      "source": [
        "# ViT-B-32.json\n",
        "# copied from https://github.com/mlfoundations/open_clip/blob/91f6cce16b7bee90b3b5d38ca305b5b3b67cc200/src/training/model_configs/ViT-B-32.json\n",
        "model_info =  {\n",
        "    \"embed_dim\": 512,\n",
        "    \"image_resolution\": 224,\n",
        "    \"vision_layers\": 12,\n",
        "    \"vision_width\": 768,\n",
        "    \"vision_patch_size\": 32,\n",
        "    \"context_length\": 77,\n",
        "    \"vocab_size\": 49408,\n",
        "    \"transformer_width\": 512,\n",
        "    \"transformer_heads\": 8,\n",
        "    \"transformer_layers\": 12\n",
        "} "
      ]
    },
    {
      "cell_type": "code",
      "execution_count": 24,
      "metadata": {},
      "outputs": [],
      "source": [
        "from torchvision import transforms\n",
        "input_size = model_info['image_resolution']\n",
        "preprocess = transforms.Compose([\n",
        "        transforms.Resize(input_size),\n",
        "        transforms.CenterCrop(input_size),\n",
        "        transforms.ToTensor(),\n",
        "        transforms.Normalize([0.485, 0.456, 0.406], [0.229, 0.224, 0.225])\n",
        "    ])"
      ]
    },
    {
      "cell_type": "code",
      "execution_count": 25,
      "metadata": {},
      "outputs": [
        {
          "data": {
            "text/plain": [
              "torchvision.transforms.transforms.Compose"
            ]
          },
          "execution_count": 25,
          "metadata": {},
          "output_type": "execute_result"
        }
      ],
      "source": [
        "type(preprocess)"
      ]
    },
    {
      "cell_type": "markdown",
      "metadata": {},
      "source": [
        "# Load Data"
      ]
    },
    {
      "cell_type": "code",
      "execution_count": 26,
      "metadata": {},
      "outputs": [
        {
          "name": "stdout",
          "output_type": "stream",
          "text": [
            "loading annotations into memory...\n",
            "Done (t=0.20s)\n",
            "creating index...\n",
            "index created!\n"
          ]
        }
      ],
      "source": [
        "import torchvision\n",
        "from torch.utils.data import DataLoader\n",
        "\n",
        "def target_transform(caption_list):\n",
        "    caption = caption_list[0] # only the first caption\n",
        "    return clip.tokenize(caption)[0]\n",
        "\n",
        "# coco_train_dataset = torchvision.datasets.CocoCaptions(\n",
        "#                         root = '/home/ubuntu/data/coco/train2017',\n",
        "#                         annFile = '/home/ubuntu/data/coco/annotations/captions_train2017.json',\n",
        "#                         transform=preprocess,\n",
        "#                         target_transform=target_transform,\n",
        "#                         )\n",
        "\n",
        "coco_val_dataset = torchvision.datasets.CocoCaptions(\n",
        "                        root = '/home/ubuntu/data/coco/val2017',\n",
        "                        annFile = '/home/ubuntu/data/coco/annotations/captions_val2017.json',\n",
        "                        transform=preprocess,\n",
        "                        target_transform=target_transform,\n",
        "                        )"
      ]
    },
    {
      "cell_type": "code",
      "execution_count": 27,
      "metadata": {},
      "outputs": [],
      "source": [
        "# coco_train_dataloader = DataLoader(coco_train_dataset, batch_size=64, shuffle=False, num_workers=8, pin_memory=True)\n",
        "coco_val_dataloader = DataLoader(coco_val_dataset, batch_size=64, shuffle=False, num_workers=8, pin_memory=True)"
      ]
    },
    {
      "cell_type": "markdown",
      "metadata": {},
      "source": [
        "# ResNet"
      ]
    },
    {
      "cell_type": "code",
      "execution_count": 28,
      "metadata": {},
      "outputs": [],
      "source": [
        "import torch\n",
        "import torch.nn as nn\n",
        "import torchvision.models as models\n",
        "from torch.autograd import Variable\n",
        "import random"
      ]
    },
    {
      "cell_type": "code",
      "execution_count": 29,
      "metadata": {},
      "outputs": [],
      "source": [
        "from clip.model import CLIP\n",
        "def get_random_init_models(random_seed):\n",
        "\n",
        "    random.seed(random_seed)\n",
        "    torch.manual_seed(random_seed)\n",
        "    np.random.seed(random_seed)\n",
        "\n",
        "    clip_model = CLIP(**model_info)\n",
        "    clip_model.cuda().eval()\n",
        "    resnet18 = models.resnet18(pretrained=False) # resnet18 = models.resnet18(pretrained=True)\n",
        "    modules=list(resnet18.children())[:-1]\n",
        "    resnet18=nn.Sequential(*modules)\n",
        "    for p in resnet18.parameters():\n",
        "        p.requires_grad = False\n",
        "\n",
        "    resnet18.cuda().eval()\n",
        "    target_model = resnet18\n",
        "    return clip_model, target_model\n"
      ]
    },
    {
      "cell_type": "markdown",
      "metadata": {},
      "source": [
        "# Extractor loop\n"
      ]
    },
    {
      "cell_type": "code",
      "execution_count": 30,
      "metadata": {},
      "outputs": [
        {
          "name": "stdout",
          "output_type": "stream",
          "text": [
            "clip_image_features_list (5000, 512)\n",
            "target_image_features_list (5000, 512)\n",
            "expriment_idx 0\n",
            "Feature Extraction completed in 1m 4s\n",
            "clip_image_features_list (5000, 512)\n",
            "target_image_features_list (5000, 512)\n",
            "expriment_idx 1\n",
            "Feature Extraction completed in 2m 10s\n",
            "clip_image_features_list (5000, 512)\n",
            "target_image_features_list (5000, 512)\n",
            "expriment_idx 2\n",
            "Feature Extraction completed in 3m 14s\n",
            "clip_image_features_list (5000, 512)\n",
            "target_image_features_list (5000, 512)\n",
            "expriment_idx 3\n",
            "Feature Extraction completed in 4m 20s\n",
            "clip_image_features_list (5000, 512)\n",
            "target_image_features_list (5000, 512)\n",
            "expriment_idx 4\n",
            "Feature Extraction completed in 5m 27s\n",
            "clip_image_features_list (5000, 512)\n",
            "target_image_features_list (5000, 512)\n",
            "expriment_idx 5\n",
            "Feature Extraction completed in 6m 33s\n",
            "clip_image_features_list (5000, 512)\n",
            "target_image_features_list (5000, 512)\n",
            "expriment_idx 6\n",
            "Feature Extraction completed in 7m 36s\n",
            "clip_image_features_list (5000, 512)\n",
            "target_image_features_list (5000, 512)\n",
            "expriment_idx 7\n",
            "Feature Extraction completed in 8m 53s\n",
            "clip_image_features_list (5000, 512)\n",
            "target_image_features_list (5000, 512)\n",
            "expriment_idx 8\n",
            "Feature Extraction completed in 10m 0s\n",
            "clip_image_features_list (5000, 512)\n",
            "target_image_features_list (5000, 512)\n",
            "expriment_idx 9\n",
            "Feature Extraction completed in 11m 8s\n",
            "clip_image_features_list (5000, 512)\n",
            "target_image_features_list (5000, 512)\n",
            "expriment_idx 10\n",
            "Feature Extraction completed in 12m 17s\n",
            "clip_image_features_list (5000, 512)\n",
            "target_image_features_list (5000, 512)\n",
            "expriment_idx 11\n",
            "Feature Extraction completed in 13m 27s\n",
            "clip_image_features_list (5000, 512)\n",
            "target_image_features_list (5000, 512)\n",
            "expriment_idx 12\n",
            "Feature Extraction completed in 14m 43s\n",
            "clip_image_features_list (5000, 512)\n",
            "target_image_features_list (5000, 512)\n",
            "expriment_idx 13\n",
            "Feature Extraction completed in 15m 55s\n",
            "clip_image_features_list (5000, 512)\n",
            "target_image_features_list (5000, 512)\n",
            "expriment_idx 14\n",
            "Feature Extraction completed in 17m 1s\n",
            "clip_image_features_list (5000, 512)\n",
            "target_image_features_list (5000, 512)\n",
            "expriment_idx 15\n",
            "Feature Extraction completed in 18m 4s\n",
            "clip_image_features_list (5000, 512)\n",
            "target_image_features_list (5000, 512)\n",
            "expriment_idx 16\n",
            "Feature Extraction completed in 19m 10s\n",
            "clip_image_features_list (5000, 512)\n",
            "target_image_features_list (5000, 512)\n",
            "expriment_idx 17\n",
            "Feature Extraction completed in 20m 17s\n",
            "clip_image_features_list (5000, 512)\n",
            "target_image_features_list (5000, 512)\n",
            "expriment_idx 18\n",
            "Feature Extraction completed in 21m 18s\n",
            "clip_image_features_list (5000, 512)\n",
            "target_image_features_list (5000, 512)\n",
            "expriment_idx 19\n",
            "Feature Extraction completed in 22m 23s\n",
            "clip_image_features_list (5000, 512)\n",
            "target_image_features_list (5000, 512)\n",
            "expriment_idx 20\n",
            "Feature Extraction completed in 23m 29s\n",
            "clip_image_features_list (5000, 512)\n",
            "target_image_features_list (5000, 512)\n",
            "expriment_idx 21\n",
            "Feature Extraction completed in 24m 36s\n",
            "clip_image_features_list (5000, 512)\n",
            "target_image_features_list (5000, 512)\n",
            "expriment_idx 22\n",
            "Feature Extraction completed in 25m 42s\n",
            "clip_image_features_list (5000, 512)\n",
            "target_image_features_list (5000, 512)\n",
            "expriment_idx 23\n",
            "Feature Extraction completed in 26m 47s\n",
            "clip_image_features_list (5000, 512)\n",
            "target_image_features_list (5000, 512)\n",
            "expriment_idx 24\n",
            "Feature Extraction completed in 27m 53s\n"
          ]
        }
      ],
      "source": [
        "since = time.time()\n",
        "dataloaders = {\n",
        "    # 'train': coco_train_dataloader, \n",
        "    'val': coco_val_dataloader,\n",
        "}\n",
        "# Each epoch has a training and validation phase\n",
        "for expriment_idx  in range(25):\n",
        "    phase = 'val'\n",
        "    clip_model, target_model = get_random_init_models(random_seed=expriment_idx)\n",
        "    clip_model.eval()   # Set model to evaluate mode, for extraction\n",
        "    ##################################\n",
        "    # Fields to be stored for postprocessing \n",
        "    ##################################\n",
        "    clip_image_features_list = []\n",
        "    clip_text_features_list = []\n",
        "    target_image_features_list = []\n",
        "\n",
        "    data_seed = 42 # Always using the same data\n",
        "    random.seed(data_seed)\n",
        "    torch.manual_seed(data_seed)\n",
        "    np.random.seed(data_seed)\n",
        "    # Iterate over data.\n",
        "    for inputs, captions in dataloaders[phase]:\n",
        "        # image_input = inputs.cuda(non_blocking=True)\n",
        "        # text_input = captions.cuda(non_blocking=True)\n",
        "\n",
        "        batch_size = len(captions)\n",
        "        image_input = torch.randn((batch_size, 3, 224, 224)).cuda(non_blocking=True)\n",
        "        text_input = torch.randint(0, 49408, (batch_size, 77)).cuda(non_blocking=True)\n",
        "\n",
        "        with torch.set_grad_enabled(False):\n",
        "            clip_image_features = clip_model.encode_image(image_input).float()\n",
        "            clip_text_features = clip_model.encode_text(text_input).float()\n",
        "            target_image_features = target_model(image_input).squeeze() \n",
        "            ##################################\n",
        "            # Evaluation book-keeping Field \n",
        "            ##################################\n",
        "            clip_image_features_list.append( clip_image_features.cpu().numpy() )\n",
        "            clip_text_features_list.append( clip_text_features.cpu().numpy() )\n",
        "            target_image_features_list.append( target_image_features.cpu().numpy() )\n",
        "\n",
        "    ##################################\n",
        "    # Evaluation book-keeping Field \n",
        "    ##################################\n",
        "    clip_image_features_list     = np.concatenate( clip_image_features_list, axis=0)\n",
        "    clip_text_features_list      = np.concatenate( clip_text_features_list, axis=0)\n",
        "    target_image_features_list   = np.concatenate( target_image_features_list, axis=0)\n",
        "    print('clip_image_features_list', clip_image_features_list.shape)\n",
        "    print('target_image_features_list', target_image_features_list.shape)\n",
        "\n",
        "    dump_result_dict = {\n",
        "        \"clip_image_features_list\":   clip_image_features_list, \n",
        "        \"clip_text_features_list\" :   clip_text_features_list,\n",
        "        \"target_image_features_list\": target_image_features_list, \n",
        "        }\n",
        "    with open(os.path.join('features', 'feature_dump_{}.pkl'.format(expriment_idx) ), \"wb\") as pkl_file:\n",
        "        pickle.dump(\n",
        "            dump_result_dict, \n",
        "            pkl_file, \n",
        "        )\n",
        "\n",
        "    time_elapsed = time.time() - since\n",
        "    print('expriment_idx', expriment_idx)\n",
        "    print('Feature Extraction completed in {:.0f}m {:.0f}s'.format(time_elapsed // 60, time_elapsed % 60))"
      ]
    },
    {
      "cell_type": "code",
      "execution_count": null,
      "metadata": {},
      "outputs": [],
      "source": []
    }
  ],
  "metadata": {
    "accelerator": "GPU",
    "colab": {
      "collapsed_sections": [],
      "name": "Interacting with CLIP.ipynb",
      "provenance": []
    },
    "kernelspec": {
      "display_name": "Python 3",
      "name": "python3"
    },
    "language_info": {
      "codemirror_mode": {
        "name": "ipython",
        "version": 3
      },
      "file_extension": ".py",
      "mimetype": "text/x-python",
      "name": "python",
      "nbconvert_exporter": "python",
      "pygments_lexer": "ipython3",
      "version": "3.9.7"
    },
    "widgets": {
      "application/vnd.jupyter.widget-state+json": {
        "12e23e2819094ee0a079d4eb77cfc4f9": {
          "model_module": "@jupyter-widgets/base",
          "model_module_version": "1.2.0",
          "model_name": "LayoutModel",
          "state": {
            "_model_module": "@jupyter-widgets/base",
            "_model_module_version": "1.2.0",
            "_model_name": "LayoutModel",
            "_view_count": null,
            "_view_module": "@jupyter-widgets/base",
            "_view_module_version": "1.2.0",
            "_view_name": "LayoutView",
            "align_content": null,
            "align_items": null,
            "align_self": null,
            "border": null,
            "bottom": null,
            "display": null,
            "flex": null,
            "flex_flow": null,
            "grid_area": null,
            "grid_auto_columns": null,
            "grid_auto_flow": null,
            "grid_auto_rows": null,
            "grid_column": null,
            "grid_gap": null,
            "grid_row": null,
            "grid_template_areas": null,
            "grid_template_columns": null,
            "grid_template_rows": null,
            "height": null,
            "justify_content": null,
            "justify_items": null,
            "left": null,
            "margin": null,
            "max_height": null,
            "max_width": null,
            "min_height": null,
            "min_width": null,
            "object_fit": null,
            "object_position": null,
            "order": null,
            "overflow": null,
            "overflow_x": null,
            "overflow_y": null,
            "padding": null,
            "right": null,
            "top": null,
            "visibility": null,
            "width": null
          }
        },
        "1369964d45004b5e95a058910b2a33e6": {
          "model_module": "@jupyter-widgets/controls",
          "model_module_version": "1.5.0",
          "model_name": "HBoxModel",
          "state": {
            "_dom_classes": [],
            "_model_module": "@jupyter-widgets/controls",
            "_model_module_version": "1.5.0",
            "_model_name": "HBoxModel",
            "_view_count": null,
            "_view_module": "@jupyter-widgets/controls",
            "_view_module_version": "1.5.0",
            "_view_name": "HBoxView",
            "box_style": "",
            "children": [
              "IPY_MODEL_7a5f52e56ede4ac3abe37a3ece007dc9",
              "IPY_MODEL_ce8b0faa1a1340b5a504d7b3546b3ccb"
            ],
            "layout": "IPY_MODEL_12e23e2819094ee0a079d4eb77cfc4f9"
          }
        },
        "161969cae25a49f38aacd1568d3cac6c": {
          "model_module": "@jupyter-widgets/base",
          "model_module_version": "1.2.0",
          "model_name": "LayoutModel",
          "state": {
            "_model_module": "@jupyter-widgets/base",
            "_model_module_version": "1.2.0",
            "_model_name": "LayoutModel",
            "_view_count": null,
            "_view_module": "@jupyter-widgets/base",
            "_view_module_version": "1.2.0",
            "_view_name": "LayoutView",
            "align_content": null,
            "align_items": null,
            "align_self": null,
            "border": null,
            "bottom": null,
            "display": null,
            "flex": null,
            "flex_flow": null,
            "grid_area": null,
            "grid_auto_columns": null,
            "grid_auto_flow": null,
            "grid_auto_rows": null,
            "grid_column": null,
            "grid_gap": null,
            "grid_row": null,
            "grid_template_areas": null,
            "grid_template_columns": null,
            "grid_template_rows": null,
            "height": null,
            "justify_content": null,
            "justify_items": null,
            "left": null,
            "margin": null,
            "max_height": null,
            "max_width": null,
            "min_height": null,
            "min_width": null,
            "object_fit": null,
            "object_position": null,
            "order": null,
            "overflow": null,
            "overflow_x": null,
            "overflow_y": null,
            "padding": null,
            "right": null,
            "top": null,
            "visibility": null,
            "width": null
          }
        },
        "4a61c10fc00c4f04bb00b82e942da210": {
          "model_module": "@jupyter-widgets/base",
          "model_module_version": "1.2.0",
          "model_name": "LayoutModel",
          "state": {
            "_model_module": "@jupyter-widgets/base",
            "_model_module_version": "1.2.0",
            "_model_name": "LayoutModel",
            "_view_count": null,
            "_view_module": "@jupyter-widgets/base",
            "_view_module_version": "1.2.0",
            "_view_name": "LayoutView",
            "align_content": null,
            "align_items": null,
            "align_self": null,
            "border": null,
            "bottom": null,
            "display": null,
            "flex": null,
            "flex_flow": null,
            "grid_area": null,
            "grid_auto_columns": null,
            "grid_auto_flow": null,
            "grid_auto_rows": null,
            "grid_column": null,
            "grid_gap": null,
            "grid_row": null,
            "grid_template_areas": null,
            "grid_template_columns": null,
            "grid_template_rows": null,
            "height": null,
            "justify_content": null,
            "justify_items": null,
            "left": null,
            "margin": null,
            "max_height": null,
            "max_width": null,
            "min_height": null,
            "min_width": null,
            "object_fit": null,
            "object_position": null,
            "order": null,
            "overflow": null,
            "overflow_x": null,
            "overflow_y": null,
            "padding": null,
            "right": null,
            "top": null,
            "visibility": null,
            "width": null
          }
        },
        "5e6adc4592124a4581b85f4c1f3bab4d": {
          "model_module": "@jupyter-widgets/controls",
          "model_module_version": "1.5.0",
          "model_name": "ProgressStyleModel",
          "state": {
            "_model_module": "@jupyter-widgets/controls",
            "_model_module_version": "1.5.0",
            "_model_name": "ProgressStyleModel",
            "_view_count": null,
            "_view_module": "@jupyter-widgets/base",
            "_view_module_version": "1.2.0",
            "_view_name": "StyleView",
            "bar_color": null,
            "description_width": "initial"
          }
        },
        "7a5f52e56ede4ac3abe37a3ece007dc9": {
          "model_module": "@jupyter-widgets/controls",
          "model_module_version": "1.5.0",
          "model_name": "FloatProgressModel",
          "state": {
            "_dom_classes": [],
            "_model_module": "@jupyter-widgets/controls",
            "_model_module_version": "1.5.0",
            "_model_name": "FloatProgressModel",
            "_view_count": null,
            "_view_module": "@jupyter-widgets/controls",
            "_view_module_version": "1.5.0",
            "_view_name": "ProgressView",
            "bar_style": "success",
            "description": "",
            "description_tooltip": null,
            "layout": "IPY_MODEL_4a61c10fc00c4f04bb00b82e942da210",
            "max": 169001437,
            "min": 0,
            "orientation": "horizontal",
            "style": "IPY_MODEL_5e6adc4592124a4581b85f4c1f3bab4d",
            "value": 169001437
          }
        },
        "b597cd6f6cd443aba4bf4491ac7f957e": {
          "model_module": "@jupyter-widgets/controls",
          "model_module_version": "1.5.0",
          "model_name": "DescriptionStyleModel",
          "state": {
            "_model_module": "@jupyter-widgets/controls",
            "_model_module_version": "1.5.0",
            "_model_name": "DescriptionStyleModel",
            "_view_count": null,
            "_view_module": "@jupyter-widgets/base",
            "_view_module_version": "1.2.0",
            "_view_name": "StyleView",
            "description_width": ""
          }
        },
        "ce8b0faa1a1340b5a504d7b3546b3ccb": {
          "model_module": "@jupyter-widgets/controls",
          "model_module_version": "1.5.0",
          "model_name": "HTMLModel",
          "state": {
            "_dom_classes": [],
            "_model_module": "@jupyter-widgets/controls",
            "_model_module_version": "1.5.0",
            "_model_name": "HTMLModel",
            "_view_count": null,
            "_view_module": "@jupyter-widgets/controls",
            "_view_module_version": "1.5.0",
            "_view_name": "HTMLView",
            "description": "",
            "description_tooltip": null,
            "layout": "IPY_MODEL_161969cae25a49f38aacd1568d3cac6c",
            "placeholder": "​",
            "style": "IPY_MODEL_b597cd6f6cd443aba4bf4491ac7f957e",
            "value": " 169001984/? [00:06&lt;00:00, 25734958.25it/s]"
          }
        }
      }
    }
  },
  "nbformat": 4,
  "nbformat_minor": 0
}
